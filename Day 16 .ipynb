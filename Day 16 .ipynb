{
 "cells": [
  {
   "cell_type": "code",
   "execution_count": 1,
   "id": "8abea443",
   "metadata": {},
   "outputs": [
    {
     "name": "stdout",
     "output_type": "stream",
     "text": [
      "10\n"
     ]
    }
   ],
   "source": [
    "#array - similar data types\n",
    "# find the second largest number(sort,max)\n",
    "#arr = [20,5,8,10] - o/p=10\n",
    "\n",
    "arr = [20,5,8,10]\n",
    "arr.sort(reverse = False)\n",
    "print(arr[-2])\n"
   ]
  },
  {
   "cell_type": "code",
   "execution_count": 3,
   "id": "010346c4",
   "metadata": {},
   "outputs": [
    {
     "name": "stdout",
     "output_type": "stream",
     "text": [
      "[120, 180]\n"
     ]
    }
   ],
   "source": [
    "prices =[50,120,50,20,180]\n",
    "p1 =[]\n",
    "for p in prices:\n",
    "    if p*0.9 > 100:\n",
    "        p1.append(p)\n",
    "print(p1)"
   ]
  }
 ],
 "metadata": {
  "kernelspec": {
   "display_name": "Python 3",
   "language": "python",
   "name": "python3"
  },
  "language_info": {
   "codemirror_mode": {
    "name": "ipython",
    "version": 3
   },
   "file_extension": ".py",
   "mimetype": "text/x-python",
   "name": "python",
   "nbconvert_exporter": "python",
   "pygments_lexer": "ipython3",
   "version": "3.13.5"
  }
 },
 "nbformat": 4,
 "nbformat_minor": 5
}
