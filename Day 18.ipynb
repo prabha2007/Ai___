{
 "cells": [
  {
   "cell_type": "code",
   "execution_count": 3,
   "id": "647f64bb",
   "metadata": {},
   "outputs": [
    {
     "name": "stdout",
     "output_type": "stream",
     "text": [
      "Hello\n"
     ]
    }
   ],
   "source": [
    "#strings\n",
    "\n",
    "a = \"Hello\"\n",
    "print(a)"
   ]
  },
  {
   "cell_type": "code",
   "execution_count": 4,
   "id": "9f255513",
   "metadata": {},
   "outputs": [
    {
     "name": "stdout",
     "output_type": "stream",
     "text": [
      "e\n"
     ]
    }
   ],
   "source": [
    "#slicing method\n",
    "\n",
    "a = \"Hello\"\n",
    "print(a[1])"
   ]
  },
  {
   "cell_type": "code",
   "execution_count": 5,
   "id": "37b42d77",
   "metadata": {},
   "outputs": [
    {
     "name": "stdout",
     "output_type": "stream",
     "text": [
      "ll\n"
     ]
    }
   ],
   "source": [
    "a=\"Hello\"\n",
    "print(a[2:4])"
   ]
  },
  {
   "cell_type": "code",
   "execution_count": 6,
   "id": "11c180fa",
   "metadata": {},
   "outputs": [
    {
     "name": "stdout",
     "output_type": "stream",
     "text": [
      "ll\n"
     ]
    }
   ],
   "source": [
    "a=\"Hello\"\n",
    "print(a[-3:-1])"
   ]
  },
  {
   "cell_type": "code",
   "execution_count": 7,
   "id": "dc254179",
   "metadata": {},
   "outputs": [
    {
     "name": "stdout",
     "output_type": "stream",
     "text": [
      "Hlo\n"
     ]
    }
   ],
   "source": [
    "a=\"Hello\"\n",
    "print(a[::2])"
   ]
  },
  {
   "cell_type": "code",
   "execution_count": 8,
   "id": "f6b6e7e9",
   "metadata": {},
   "outputs": [
    {
     "name": "stdout",
     "output_type": "stream",
     "text": [
      "olH\n"
     ]
    }
   ],
   "source": [
    "a=\"Hello\"\n",
    "print(a[::-2])"
   ]
  },
  {
   "cell_type": "code",
   "execution_count": 9,
   "id": "a158f373",
   "metadata": {},
   "outputs": [
    {
     "name": "stdout",
     "output_type": "stream",
     "text": [
      "olleH\n"
     ]
    }
   ],
   "source": [
    "a=\"Hello\"\n",
    "print(a[::-1])"
   ]
  },
  {
   "cell_type": "code",
   "execution_count": 10,
   "id": "d8bd9012",
   "metadata": {},
   "outputs": [
    {
     "name": "stdout",
     "output_type": "stream",
     "text": [
      "olleH\n",
      "H\n",
      "e\n",
      "l\n",
      "l\n",
      "o\n"
     ]
    }
   ],
   "source": [
    "a=\"Hello\"\n",
    "print(a[::-1])\n",
    "for i in a:\n",
    "    print(i)"
   ]
  },
  {
   "cell_type": "code",
   "execution_count": 11,
   "id": "c56dd78d",
   "metadata": {},
   "outputs": [
    {
     "name": "stdout",
     "output_type": "stream",
     "text": [
      "olleH\n",
      "H\n",
      "e\n",
      "l\n",
      "l\n",
      "o\n",
      "l\n"
     ]
    }
   ],
   "source": [
    "a=\"Hello\"\n",
    "print(a[::-1])\n",
    "for i in a:\n",
    "    print(i)\n",
    "print(a[2:4:3])"
   ]
  },
  {
   "cell_type": "code",
   "execution_count": 12,
   "id": "8b188e60",
   "metadata": {},
   "outputs": [],
   "source": [
    "#String methods\n",
    "#lower\n",
    "# ,upper,replace,strip,isalpha()\n",
    "# find,count,get,off\n",
    "# ,find,join"
   ]
  },
  {
   "cell_type": "code",
   "execution_count": 13,
   "id": "17ec0cd1",
   "metadata": {},
   "outputs": [
    {
     "name": "stdout",
     "output_type": "stream",
     "text": [
      "Kiwi\n"
     ]
    }
   ],
   "source": [
    "#Replace\n",
    "\n",
    "s = \"kiwi\"\n",
    "s = s.replace(\"k\",\"K\")\n",
    "print(s)"
   ]
  },
  {
   "cell_type": "code",
   "execution_count": 14,
   "id": "37cdbbb1",
   "metadata": {},
   "outputs": [
    {
     "name": "stdout",
     "output_type": "stream",
     "text": [
      "hello\n"
     ]
    }
   ],
   "source": [
    "#lower\n",
    "\n",
    "print(\"HELLO\".lower())"
   ]
  },
  {
   "cell_type": "code",
   "execution_count": 15,
   "id": "81df1af2",
   "metadata": {},
   "outputs": [
    {
     "name": "stdout",
     "output_type": "stream",
     "text": [
      "KIWII\n"
     ]
    }
   ],
   "source": [
    "#upper\n",
    "\n",
    "print(\"kiwii\".upper())"
   ]
  },
  {
   "cell_type": "code",
   "execution_count": 16,
   "id": "69e339a9",
   "metadata": {},
   "outputs": [
    {
     "name": "stdout",
     "output_type": "stream",
     "text": [
      "kiwi\n"
     ]
    }
   ],
   "source": [
    "#strip\n",
    "\n",
    "print(\"kiwi\".strip())\n",
    "\n"
   ]
  },
  {
   "cell_type": "code",
   "execution_count": 17,
   "id": "a1ca53c2",
   "metadata": {},
   "outputs": [
    {
     "name": "stdout",
     "output_type": "stream",
     "text": [
      "True\n"
     ]
    }
   ],
   "source": [
    "#isalpha\n",
    "\n",
    "print(\"kiwi\".isalpha())"
   ]
  },
  {
   "cell_type": "code",
   "execution_count": 18,
   "id": "1627b035",
   "metadata": {},
   "outputs": [
    {
     "name": "stdout",
     "output_type": "stream",
     "text": [
      "0\n"
     ]
    }
   ],
   "source": [
    "#find\n",
    "\n",
    "print(\"kiwi fruit\".find(\"kiwi\"))"
   ]
  },
  {
   "cell_type": "code",
   "execution_count": 19,
   "id": "9837ac1c",
   "metadata": {},
   "outputs": [
    {
     "name": "stdout",
     "output_type": "stream",
     "text": [
      "12\n"
     ]
    }
   ],
   "source": [
    "#count\n",
    "\n",
    "print(\"aaaaabaababababaa\".count(\"a\"))"
   ]
  },
  {
   "cell_type": "code",
   "execution_count": 20,
   "id": "8ac21f31",
   "metadata": {},
   "outputs": [
    {
     "name": "stdout",
     "output_type": "stream",
     "text": [
      "Alice\n",
      "Not found\n"
     ]
    }
   ],
   "source": [
    "#get\n",
    "person = {\"name\": \"Alice\", \"age\": 25}\n",
    "print(person.get(\"name\"))\n",
    "print(person.get(\"city\", \"Not found\"))"
   ]
  },
  {
   "cell_type": "code",
   "execution_count": 21,
   "id": "d093c2fa",
   "metadata": {},
   "outputs": [
    {
     "name": "stdout",
     "output_type": "stream",
     "text": [
      "he\n"
     ]
    }
   ],
   "source": [
    "#off\n",
    "s=\"hello\"\n",
    "print(s[:-3])"
   ]
  },
  {
   "cell_type": "code",
   "execution_count": 22,
   "id": "532b47a6",
   "metadata": {},
   "outputs": [
    {
     "name": "stdout",
     "output_type": "stream",
     "text": [
      "-1\n"
     ]
    }
   ],
   "source": [
    "#find\n",
    "print(\"ab is hb\".find(\"op\"))"
   ]
  },
  {
   "cell_type": "code",
   "execution_count": 23,
   "id": "84a1d446",
   "metadata": {},
   "outputs": [
    {
     "name": "stdout",
     "output_type": "stream",
     "text": [
      "lol kol mal\n"
     ]
    }
   ],
   "source": [
    "#join\n",
    "names = [\"lol\",\"kol\",\"mal\"]\n",
    "result = \" \".join(names)\n",
    "print(result)"
   ]
  },
  {
   "cell_type": "code",
   "execution_count": 24,
   "id": "26affbff",
   "metadata": {},
   "outputs": [
    {
     "name": "stdout",
     "output_type": "stream",
     "text": [
      "False\n",
      "False\n"
     ]
    }
   ],
   "source": [
    "a =\"abc\"\n",
    "b = \"abb\" \n",
    "print(a == b)\n",
    "print(a is b)\n"
   ]
  },
  {
   "cell_type": "code",
   "execution_count": 25,
   "id": "3fe0299f",
   "metadata": {},
   "outputs": [],
   "source": [
    "#string also imutable\n",
    "#mostly it avoids += operator\n",
    "\n",
    "#substring - a seq of char\n",
    "s =\"abc\" #a,b,c,ab,ac,bc\n",
    "\n",
    "#Brute force\n",
    "#first loop i=0\n"
   ]
  },
  {
   "cell_type": "code",
   "execution_count": 26,
   "id": "4342ff13",
   "metadata": {},
   "outputs": [
    {
     "name": "stdout",
     "output_type": "stream",
     "text": [
      "a\n",
      "ab\n",
      "abc\n",
      "b\n",
      "bc\n",
      "c\n"
     ]
    }
   ],
   "source": [
    "s=\"abc\"\n",
    "n= len(s)\n",
    "for i in range(n):\n",
    "    for j in range(i+1,n+1):\n",
    "        print(s[i:j])"
   ]
  },
  {
   "cell_type": "code",
   "execution_count": 27,
   "id": "5cdef944",
   "metadata": {},
   "outputs": [
    {
     "data": {
      "text/plain": [
       "2"
      ]
     },
     "execution_count": 27,
     "metadata": {},
     "output_type": "execute_result"
    }
   ],
   "source": [
    "#count palindromic substrings\n",
    "\n",
    "def palindrome(s):\n",
    "    count = 0\n",
    "    n = len(s)\n",
    "    for i in range(n):\n",
    "        for j in range(i+1,n+1):\n",
    "            if s[i:j] == s[i:j][::-1]:\n",
    "                count +=1\n",
    "        return count\n",
    "palindrome(\"abba\")\n",
    "\n",
    "#n = 4\n",
    "#count = 0\n",
    "\n",
    "#first i=0, then j values will be 1,2,3,4\n",
    "\n"
   ]
  },
  {
   "cell_type": "code",
   "execution_count": 28,
   "id": "09f4c963",
   "metadata": {},
   "outputs": [],
   "source": [
    "#sliding window\n",
    "#prefix sum of strings\n",
    "#rolling hash"
   ]
  },
  {
   "cell_type": "code",
   "execution_count": 29,
   "id": "fabbe5e1",
   "metadata": {},
   "outputs": [
    {
     "name": "stdout",
     "output_type": "stream",
     "text": [
      "3\n"
     ]
    }
   ],
   "source": [
    "#longest substring without repeating\n",
    "#input - \"abcabcbb\"\n",
    "\n",
    "def length_of_longest_substring(s):\n",
    "    max_len = 0\n",
    "    for i in range(len(s)):\n",
    "        seen = set()\n",
    "        for j in range(i, len(s)):\n",
    "            if s[j] in seen:\n",
    "                break\n",
    "            seen.add(s[j])\n",
    "        max_len = max(max_len, len(seen))\n",
    "    return max_len\n",
    "\n",
    "\n",
    "print(length_of_longest_substring(\"abcabcbb\"))  \n",
    "\n"
   ]
  },
  {
   "cell_type": "code",
   "execution_count": 30,
   "id": "af4cb4d9",
   "metadata": {},
   "outputs": [
    {
     "name": "stdout",
     "output_type": "stream",
     "text": [
      "0\n"
     ]
    }
   ],
   "source": [
    "def first_unique_char(s):\n",
    "    freq = {}\n",
    "    \n",
    "    for ch in s:\n",
    "        if ch in freq:\n",
    "            freq[ch] += 1\n",
    "        else:\n",
    "            freq[ch] = 1\n",
    "\n",
    "    for i in range(len(s)):\n",
    "        if freq[s[i]] == 1:\n",
    "            return i\n",
    "\n",
    "    return -1\n",
    "\n",
    "s = \"examination\"\n",
    "print(first_unique_char(s))"
   ]
  },
  {
   "cell_type": "code",
   "execution_count": null,
   "id": "7dc0c9c8",
   "metadata": {},
   "outputs": [],
   "source": []
  }
 ],
 "metadata": {
  "kernelspec": {
   "display_name": "base",
   "language": "python",
   "name": "python3"
  },
  "language_info": {
   "codemirror_mode": {
    "name": "ipython",
    "version": 3
   },
   "file_extension": ".py",
   "mimetype": "text/x-python",
   "name": "python",
   "nbconvert_exporter": "python",
   "pygments_lexer": "ipython3",
   "version": "3.9.12"
  }
 },
 "nbformat": 4,
 "nbformat_minor": 5
}
