{
 "cells": [
  {
   "cell_type": "code",
   "execution_count": 6,
   "id": "80c5d5fc",
   "metadata": {},
   "outputs": [
    {
     "name": "stdout",
     "output_type": "stream",
     "text": [
      "DDRR\n",
      "RRDD\n"
     ]
    }
   ],
   "source": [
    "\n",
    "def find(x,y,path):\n",
    "    if x == 2 and y == 2: \n",
    "        print(\"\".join(path))\n",
    "        return\n",
    "    if x+1 <= 2 and grid[x+1][y] == 0:\n",
    "        path.append(\"D\")\n",
    "        find(x+1,y,path)\n",
    "        path.pop()\n",
    "    if y+1 <= 2 and grid[x][y+1] == 0:\n",
    "        path.append(\"R\")\n",
    "        find(x,y+1, path)\n",
    "        path.pop()\n",
    "\n",
    "grid = [\n",
    "    [0,0,0],\n",
    "    [0,1,0],\n",
    "    [0,0,0]\n",
    "]\n",
    "find(0,0,[])"
   ]
  },
  {
   "cell_type": "code",
   "execution_count": null,
   "id": "78eac1a2",
   "metadata": {},
   "outputs": [],
   "source": [
    "#Root - at top node\n",
    "#child - a node that comes from parent\n",
    "#parent - which node having children that is parent\n",
    "#Edge - used to make connection\n",
    "#Leaf node - which node has no children is leaf node\n",
    "#ansesters - \n",
    "#disantance\n",
    "\n",
    "#Types of trees\n",
    "1.binary tree\n",
    "2.binary search tree\n",
    "3.AVL tree\n",
    "4.red black tree"
   ]
  },
  {
   "cell_type": "code",
   "execution_count": 9,
   "id": "4f322ab1",
   "metadata": {},
   "outputs": [
    {
     "name": "stdout",
     "output_type": "stream",
     "text": [
      "CEO\n",
      "  CFO\n",
      "  CTO\n",
      "    QA\n",
      "    DEVA\n",
      "  COO\n",
      "    OPS\n"
     ]
    }
   ],
   "source": [
    "#Tree Implementation \n",
    "#Node Creation\n",
    "class Treenode():\n",
    "    def __init__(self, val):\n",
    "        self.val = val\n",
    "        self.children = []\n",
    "ceo = Treenode(\"CEO\")        \n",
    "cfo = Treenode(\"CFO\")\n",
    "cto = Treenode(\"CTO\")\n",
    "coo = Treenode(\"COO\")\n",
    "qa = Treenode(\"QA\")\n",
    "dev = Treenode(\"DEVA\") \n",
    "ops = Treenode(\"OPS\")\n",
    "ceo.children = [cfo,cto,coo]\n",
    "cto.children = [qa,dev]\n",
    "coo.children = [ops]        \n",
    "        #Traversing\n",
    "def traverse(node , level=0):\n",
    "    print(\"  \"*level + node.val)\n",
    "    for child in node.children:\n",
    "        traverse(child , level +1)\n",
    "traverse(ceo)\n",
    "\n"
   ]
  },
  {
   "cell_type": "code",
   "execution_count": null,
   "id": "b0338834",
   "metadata": {},
   "outputs": [],
   "source": []
  }
 ],
 "metadata": {
  "kernelspec": {
   "display_name": "Python 3",
   "language": "python",
   "name": "python3"
  },
  "language_info": {
   "codemirror_mode": {
    "name": "ipython",
    "version": 3
   },
   "file_extension": ".py",
   "mimetype": "text/x-python",
   "name": "python",
   "nbconvert_exporter": "python",
   "pygments_lexer": "ipython3",
   "version": "3.13.5"
  }
 },
 "nbformat": 4,
 "nbformat_minor": 5
}
