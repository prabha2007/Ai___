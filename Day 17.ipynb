{
 "cells": [
  {
   "cell_type": "code",
   "execution_count": null,
   "id": "e0bcc913",
   "metadata": {},
   "outputs": [
    {
     "name": "stdout",
     "output_type": "stream",
     "text": [
      "Total ₹ 110\n",
      "Bike : 1\n",
      "Car : 1\n",
      "Truck : 1\n",
      "Bus : 0\n"
     ]
    }
   ],
   "source": [
    "#assignment...\n",
    "\n",
    "1.# \"The Toll Booth Trouble\"\n",
    "#At a national highway, vehicles pass through a toll booth. Each vehicle type (bike, car, truck, bus) has a different toll rate. Some vehicles have a monthly pass, so their rate is ₹0.\n",
    "#Your Task:\n",
    "#Design a system to compute the toll for each vehicle as it passes, using a class for each vehicle type. At the end of the day, show the total collection and number of vehicles by type.\n",
    "\t#Concepts: Classes, inheritance, conditionals, dictionaries.\n",
    "________________________________________\n",
    "\n",
    "class Vehicle:\n",
    "    def __init__(self, has_pass, rate):\n",
    "        self.has_pass = has_pass\n",
    "        self.rate = rate\n",
    "\n",
    "    def toll(self):\n",
    "        return 0 if self.has_pass else self.rate\n",
    "\n",
    "class TollBooth:\n",
    "    def __init__(self):\n",
    "        self.total = 0\n",
    "        self.count = {'Bike': 0, 'Car': 0, 'Truck': 0, 'Bus': 0}\n",
    "\n",
    "    def process(self, v_type, vehicle):\n",
    "        self.total += vehicle.toll()\n",
    "        self.count[v_type] += 1\n",
    "\n",
    "    def report(self):\n",
    "        print(\"Total ₹\", self.total)\n",
    "        for t, c in self.count.items():\n",
    "            print(t, \":\", c)\n",
    "\n",
    "booth = TollBooth()\n",
    "booth.process(\"Bike\", Vehicle(False, 10))\n",
    "booth.process(\"Car\", Vehicle(True, 50))\n",
    "booth.process(\"Truck\", Vehicle(False, 100))\n",
    "booth.report()"
   ]
  },
  {
   "cell_type": "code",
   "execution_count": null,
   "id": "3c0d04ed",
   "metadata": {},
   "outputs": [],
   "source": [
    "2. #\"The Library Whisperer\"\n",
    "#You are managing a small public library. Each book can be borrowed for up to 15 days. After that, a fine of ₹2/day is charged. Students and adults have different borrowing limits.\n",
    "#Your Task:\n",
    "#Design classes for User, Book, and Library. Calculate fines for overdue books, and generate a borrowing report for each user.\n",
    "\t#Concepts: OOP (composition), date math, fine calculation\n",
    "\n",
    "\n",
    "\n"
   ]
  },
  {
   "cell_type": "code",
   "execution_count": null,
   "id": "0e5c7641",
   "metadata": {},
   "outputs": [],
   "source": [
    "3. \"The Chocolate Factory Audit\"\n",
    "Willy Wonka needs your help. His chocolate machines produce candies every hour. Each type of machine produces at a different rate and has a maintenance cost.\n",
    "Your Task:\n",
    "Simulate production for a day. Use classes to represent machines. Calculate total output and operating cost. Suggest which machine is most efficient (candies per ₹).\n",
    "•\tConcepts: Classes, math formulas, loops, performance calculation\n"
   ]
  },
  {
   "cell_type": "code",
   "execution_count": null,
   "id": "44a1d696",
   "metadata": {},
   "outputs": [],
   "source": [
    "class Machine:\n",
    "    def _init_(self, name, rate, cost): \n",
    "        self.name = name\n",
    "        self. rate = rate\n",
    "        self.cost = cost\n",
    "    def produce(self):\n",
    "         return self.rate*24\n",
    "    def m_c(self):\n",
    "         return self.produce()/self.cost\n",
    "    \n",
    "M1= machine(\"machine A\",100,10)\n",
    "M2= machine(\"machine B\",100,600)\n",
    "M1.PRODUCE()\n",
    "print(f\"{m1.name} produces{m1.produce()} and the maintaneance cost is {m1.m_c()}\")\n",
    "    \n",
    "        \n",
    "   "
   ]
  },
  {
   "cell_type": "code",
   "execution_count": null,
   "id": "f1ed8467",
   "metadata": {},
   "outputs": [],
   "source": [
    "4. \"Grocery Store on Wheels\"\n",
    "You’re writing software for a mobile grocery van. Customers buy items, and your program must calculate totals, apply discounts, and print a bill.\n",
    "Your Task:\n",
    "Model Item, Cart, and Customer. Apply 5% discount if total > ₹1000. Loyalty members get an additional 5%.\n",
    "•\tConcepts: OOP, billing logic, formatting output.\n",
    "________________________________________\n"
   ]
  },
  {
   "cell_type": "code",
   "execution_count": null,
   "id": "5543bc55",
   "metadata": {},
   "outputs": [],
   "source": [
    "class Customer:\n",
    "    def _init_(self, l): self.cart, self.l = [], l\n",
    "    def add(self, p): self.cart.append(p)\n",
    "    def bill(self):\n",
    "        t = sum(self.cart)\n",
    "        if t > 1000: t *= 0.95\n",
    "        if self.l: t *= 0.95\n",
    "        print(f\"Total: ₹{t:.2f}\")\n",
    "c = Customer(True); c.add(800); c.add(400); c.bill()"
   ]
  },
  {
   "cell_type": "code",
   "execution_count": null,
   "id": "cff39132",
   "metadata": {},
   "outputs": [],
   "source": [
    "5. #The Exam Result Robot\"\n",
    "# school wants to automate its result processing. Students have marks in 5 subjects. Grades are given based on average marks.\n",
    "Your Task:\n",
    "Build a class Student with a method calculate_grade(). Grade A for >90, B for 75–90, C for 50–74, D for <50. Generate report cards.\n",
    "•\tConcepts: Class with multiple attributes, grade calculation logic.\n",
    "\n"
   ]
  },
  {
   "cell_type": "code",
   "execution_count": null,
   "id": "35015487",
   "metadata": {},
   "outputs": [],
   "source": [
    "class Student:\n",
    "    def _init_(self, name, marks):\n",
    "         self.n, self.m = name, marks\n",
    "\n",
    "    def grade(self):\n",
    "        a = sum(self.m)/5\n",
    "        g = 'A' if a>90 else 'B' if a>=75 else 'C' \n",
    "if a >=50 else 'D'\n",
    "      print(f\"{self.n}: {g}\")\n",
    "\n",
    "Student(\"Meera\", [80, 75, 78, 90, 85]).grade()"
   ]
  }
 ],
 "metadata": {
  "kernelspec": {
   "display_name": "Python 3",
   "language": "python",
   "name": "python3"
  },
  "language_info": {
   "codemirror_mode": {
    "name": "ipython",
    "version": 3
   },
   "file_extension": ".py",
   "mimetype": "text/x-python",
   "name": "python",
   "nbconvert_exporter": "python",
   "pygments_lexer": "ipython3",
   "version": "3.13.5"
  }
 },
 "nbformat": 4,
 "nbformat_minor": 5
}
