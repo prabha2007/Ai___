{
 "cells": [
  {
   "cell_type": "code",
   "execution_count": null,
   "id": "022eb7dd",
   "metadata": {},
   "outputs": [
    {
     "name": "stdout",
     "output_type": "stream",
     "text": [
      "dog barks\n",
      "Cat meows\n"
     ]
    }
   ],
   "source": [
    "#INHERITANCE\n",
    "            \n",
    "class Animal():\n",
    "    def sound(self):\n",
    "        print(\"Animal make a sound\")\n",
    "class Dog(Animal):\n",
    "    def sound(self):\n",
    "         print(\"dog barks\")\n",
    "class Cat(Animal):\n",
    "    def sound(self):\n",
    "         print(\"Cat meows\")\n",
    "a1=Animal()\n",
    "d1=Dog()\n",
    "c1=Cat()\n",
    "d1.sound()\n",
    "c1.sound()\n"
   ]
  },
  {
   "cell_type": "code",
   "execution_count": 2,
   "id": "cd4f09a3",
   "metadata": {},
   "outputs": [
    {
     "name": "stdout",
     "output_type": "stream",
     "text": [
      "for remove the wrong words\n",
      "for writing\n"
     ]
    }
   ],
   "source": [
    "class Stationary():\n",
    "      def things(self):\n",
    "          print(\"for the purpose of writing\") \n",
    "class Eraser(Stationary):\n",
    "      def things(self):\n",
    "           print(\"for remove the wrong words\")\n",
    "class Pen(Stationary):\n",
    "      def things(self):\n",
    "           print(\"for writing\") \n",
    "x1=Stationary ()\n",
    "y1=Eraser()\n",
    "z1=Pen()\n",
    "y1.things()\n",
    "z1.things()"
   ]
  }
 ],
 "metadata": {
  "kernelspec": {
   "display_name": "Python 3",
   "language": "python",
   "name": "python3"
  },
  "language_info": {
   "codemirror_mode": {
    "name": "ipython",
    "version": 3
   },
   "file_extension": ".py",
   "mimetype": "text/x-python",
   "name": "python",
   "nbconvert_exporter": "python",
   "pygments_lexer": "ipython3",
   "version": "3.13.2"
  }
 },
 "nbformat": 4,
 "nbformat_minor": 5
}
