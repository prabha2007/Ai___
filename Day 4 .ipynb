{
 "cells": [
  {
   "cell_type": "code",
   "execution_count": null,
   "id": "61294232",
   "metadata": {},
   "outputs": [
    {
     "name": "stdout",
     "output_type": "stream",
     "text": [
      "{1, 3, 4, 5, 6, 44, 222}\n",
      "{1, 3, 4, 5, 6, 10, 44, 222}\n",
      "{1, 3, 4, 5, 6, 10, 44}\n",
      "{1, 3, 4, 5, 6, 10, 11, 22, 44}\n",
      "{1, 3, 4, 5, 6, 10, 11, 44}\n",
      "{1, 44, 222, 6}\n",
      "{1, 3, 4, 5, 6, 44, 333, 55, 666, 222}\n",
      "{3, 4, 5}\n"
     ]
    }
   ],
   "source": [
    "#Day - 04\n",
    "\n",
    "\n",
    "#set-{}\n",
    "# it doesnt allows the duplicates\n",
    "# it doest allow slicing\n",
    "# it doesnt allow indexing\n",
    "# unorderd\n",
    "\n",
    "# set methods\n",
    "\n",
    "# add,update,remove,discard,remove,pop\n",
    "# operations- union,intersection,diffrence\n",
    "\n",
    "\n",
    "#  set_1={}- empty set\n",
    "\n",
    "\n",
    "set1={1,222,3,3,4,222,44,5,6,44,}\n",
    "print(set1)\n",
    "\n",
    "set1.add(10) # also sorting occured\n",
    "print(set1)\n",
    "set1.remove(222)\n",
    "print(set1)\n",
    "set1.update([11,22])#add and update are same\n",
    "print(set1)\n",
    "set1.discard(22)\n",
    "print(set1)\n",
    "\n",
    "#----------------------------------------------------------------------------------------------------------------------------------------------------------\n",
    "\n",
    "set1={1,222,3,3,4,222,44,5,6,44,}\n",
    "\n",
    "set2={3,4,5,4,333,55,666,333,55}\n",
    "\n",
    "print(set1.difference(set2))\n",
    "\n",
    "print(set1.union(set2))\n",
    "\n",
    "print(set1.intersection(set2))\n",
    "\n",
    "\n",
    "\n"
   ]
  },
  {
   "cell_type": "code",
   "execution_count": null,
   "id": "f9bbc1c8",
   "metadata": {},
   "outputs": [
    {
     "data": {
      "text/plain": [
       "8"
      ]
     },
     "metadata": {},
     "output_type": "display_data"
    }
   ],
   "source": [
    "#find the unique values\n",
    "\n",
    "def unique_item(text):\n",
    "    words=text.lower().split()\n",
    "    unique=set(words)#set-it is used for converting a list in to set\n",
    "    return len(unique)\n",
    "unique_item(\"Raju is a good boy but sometimes raju is a bad boy\")"
   ]
  },
  {
   "cell_type": "code",
   "execution_count": null,
   "id": "4d5dec43",
   "metadata": {},
   "outputs": [
    {
     "data": {
      "text/plain": [
       "[1, 2, 3, 4, 5, 6]"
      ]
     },
     "metadata": {},
     "output_type": "display_data"
    }
   ],
   "source": [
    "#remove duplicates from a list\n",
    "\n",
    "\n",
    "def remove_dupli(num):\n",
    "    result=[]\n",
    "    for i in num:\n",
    "        if i not in result:\n",
    "            result.append(i)\n",
    "    return result\n",
    "list1=[1,2,1,1,1,3,4,5,6,4,5,]\n",
    "remove_dupli(list1)\n"
   ]
  },
  {
   "cell_type": "code",
   "execution_count": null,
   "id": "ebb307ad",
   "metadata": {},
   "outputs": [
    {
     "name": "stdout",
     "output_type": "stream",
     "text": [
      "deepa\n",
      "kadhir\n",
      "priya\n"
     ]
    }
   ],
   "source": [
    "#print words longer than 3 letter from a list\n",
    "\n",
    "list1=[\"deepa\",\"kadhir\",\"joe\",\"sri\",\"priya\"]\n",
    "for i in list1:\n",
    "    if(len(i)>3):\n",
    "        print(i)"
   ]
  }
 ],
 "metadata": {
  "kernelspec": {
   "display_name": "Python 3",
   "language": "python",
   "name": "python3"
  },
  "language_info": {
   "name": "python",
   "version": "3.13.5"
  }
 },
 "nbformat": 4,
 "nbformat_minor": 5
}
