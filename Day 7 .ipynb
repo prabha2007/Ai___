{
 "cells": [
  {
   "cell_type": "code",
   "execution_count": null,
   "id": "7d3d9ca4",
   "metadata": {},
   "outputs": [],
   "source": [
    "\n",
    "# DAY - 07\n",
    "\n",
    "\n",
    "# exception handling error\n",
    "\n",
    "\n",
    "# IO error - if the file can't be open\n",
    "# keyboard interrupt - when an unrequired key is passed by the user\n",
    "# value error - when built-in function receives a wrong argument \n",
    "# EOF error - if end of file is hit without reading any data\n",
    "# import error - if it is unable to find the module\n",
    "\n",
    "\n",
    "\n",
    "# type error - when we use multiple data types for list and tuple ect.. is not a problem for the other operations other than this\n",
    "# syntax error - the problem in program due to which the program will stop the execution\n",
    "# name error - while we using the variable unfortunatly we use wrong spelling or any other problem \n",
    "# indendation error - there is no indendation or more than one \n",
    "# zero devitision error - any thing divided by zero\n",
    "# key error - \n",
    "# index error - we calling the higher index numbers which is not present\n",
    "# attribute error\n",
    "# compilation error\n",
    "# run timr error\n",
    "# arithmrtic error\n",
    "# module not found error / import error\n",
    "# file not found error\n",
    "# value error\n",
    "# key board interrupt error - when we stop the execution while rnning the code\n"
   ]
  },
  {
   "cell_type": "code",
   "execution_count": null,
   "id": "e45b2a97",
   "metadata": {},
   "outputs": [],
   "source": [
    "# try \n",
    "\n",
    "\n",
    "# the try block lets you test a block of code for errors                                                    - it execute the code\n",
    "# the except block lets you handle the error                                                                - it will handle the errors\n",
    "# the else block lets you execute code when there is no error                                               - it will execute there is no error \n",
    "# the finally block lets you execute code,reagardless of the result of the try and except blocks            - it always execute"
   ]
  },
  {
   "cell_type": "code",
   "execution_count": null,
   "id": "d6b9ef98",
   "metadata": {},
   "outputs": [
    {
     "name": "stdout",
     "output_type": "stream",
     "text": [
      "please enter the intiger value\n",
      "The code executed successfully\n"
     ]
    }
   ],
   "source": [
    "\n",
    "try:\n",
    "    number=int(input(\"enter the number :\"))\n",
    "    var=number/0\n",
    "    print(var)\n",
    "except(ZeroDivisionError):\n",
    "     print(\"It divide by zero\")\n",
    "except(ValueError):\n",
    "    print(\"please enter the intiger value\")\n",
    "else:\n",
    "    print(\"it divides successfully\")\n",
    "finally:\n",
    "    print(\"The code executed successfully\")"
   ]
  },
  {
   "cell_type": "code",
   "execution_count": null,
   "id": "26f86df7",
   "metadata": {},
   "outputs": [
    {
     "name": "stdout",
     "output_type": "stream",
     "text": [
      "you guys are very smartyou are very good\n",
      "you are niceyou are very good\n",
      "you are nice\n",
      "\n",
      "the file read successfully \n",
      "its done\n"
     ]
    }
   ],
   "source": [
    "try:\n",
    "    file=open(\"Demo1.txt\",\"r\")\n",
    "    cont=file.read()\n",
    "    print(cont)\n",
    "except(FileNotFoundError):\n",
    "    print(\"file not found \")\n",
    "else:\n",
    "    print(\"the file read successfully \")\n",
    "finally:\n",
    "    print(\"its done\")"
   ]
  },
  {
   "cell_type": "code",
   "execution_count": null,
   "id": "03c53ec9",
   "metadata": {},
   "outputs": [
    {
     "name": "stdout",
     "output_type": "stream",
     "text": [
      "eligible for voting\n",
      "its done\n"
     ]
    }
   ],
   "source": [
    "# get the age from user\n",
    "# if age is above 18,then the person is eligible for voting\n",
    "# else not eligible\n",
    "# use try,except,else and finally\n",
    "\n",
    "try:\n",
    "    age=int(input(\"enter the age :\"))\n",
    "    if age>18:\n",
    "        print(\"eligible for voting\")\n",
    "    else:\n",
    "        print(\"not eligible\")\n",
    "\n",
    "\n",
    "except(ValueError):\n",
    "    print(\"enter the valid input\")\n",
    "\n",
    "finally:\n",
    "    print(\"its done\")\n",
    "    "
   ]
  }
 ],
 "metadata": {
  "kernelspec": {
   "display_name": "Python 3",
   "language": "python",
   "name": "python3"
  },
  "language_info": {
   "name": "python",
   "version": "3.13.5"
  }
 },
 "nbformat": 4,
 "nbformat_minor": 5
}
