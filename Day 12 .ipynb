{
 "cells": [
  {
   "cell_type": "code",
   "execution_count": null,
   "id": "99b34638",
   "metadata": {},
   "outputs": [],
   "source": [
    "# Day 12\n",
    "\n",
    "\n",
    "\n",
    "# Machine Learning with Python\n",
    "#      foundation of ai\n",
    "# scalar\n",
    "# vector\n",
    "# linear algebra\n",
    "\n",
    "#scalar=4 \n",
    "# vector- 1 deimension value eg:[1,2,3,4,5]\n",
    "# matrix- 2 or more diemensional value eg: [[1,2],[2,3]] \n",
    "# tensor-\n",
    "# \n"
   ]
  },
  {
   "cell_type": "code",
   "execution_count": null,
   "id": "64af81f4",
   "metadata": {},
   "outputs": [],
   "source": [
    "import numpy as np\n",
    "scalar=5\n",
    "vector=np.array([1,2,3,4,5])\n",
    "matrix=np.matrix([[1,2,2],[3,2,1],[1,2,3]])\n",
    "print(scalar)\n",
    "print(vector.ndim)\n",
    "print(matrix.ndim)\n",
    "print(np.linalg.matrix_rank(matrix))\n",
    "# tensor- 3 or more dimensional value eg: [[[1,2],[2,3]],[[1,2],[2,3]]]"
   ]
  },
  {
   "cell_type": "code",
   "execution_count": null,
   "id": "4f0db3ea",
   "metadata": {},
   "outputs": [],
   "source": [
    "row=np.array([1,2,3])\n",
    "col=np.matrix([[1],[2],[3]])\n",
    "print(row.ndim)\n",
    "print(col.ndim)\n",
    "print(row)\n",
    "print(col)"
   ]
  },
  {
   "cell_type": "code",
   "execution_count": null,
   "id": "78d38604",
   "metadata": {},
   "outputs": [],
   "source": [
    "v1=np.array([[1,2],[3,4]])\n",
    "v2=np.array([[1,2],[3,4]])\n",
    "print(v1*v2)\n",
    "print(2*v1)"
   ]
  },
  {
   "cell_type": "code",
   "execution_count": null,
   "id": "3d2f5fc8",
   "metadata": {},
   "outputs": [],
   "source": [
    "\n",
    "A = np.array([[1, 2], [3, 4]])\n",
    "B = np.array([[1, 2], [3, 4]])\n",
    "result = np.dot(A, B)\n",
    "print(result)"
   ]
  },
  {
   "cell_type": "code",
   "execution_count": null,
   "id": "a14ac1af",
   "metadata": {},
   "outputs": [],
   "source": [
    "#transpose of a matrix\n",
    "v1=np.array([[1,2],[3,4]])\n",
    "print(v1.T)"
   ]
  },
  {
   "cell_type": "code",
   "execution_count": null,
   "id": "aa57ed16",
   "metadata": {},
   "outputs": [],
   "source": [
    "\n",
    "A = np.array([[1, 2], [3, 4]])\n",
    "B = np.array([[1, 2], [3, 4]])\n",
    "result = np.cross(A, B)\n",
    "print(result)"
   ]
  },
  {
   "cell_type": "code",
   "execution_count": null,
   "id": "343787e4",
   "metadata": {},
   "outputs": [],
   "source": [
    "\n",
    "A = np.array([1, 2,3, 4])\n",
    "B = np.array([1, 2,3, 4])\n",
    "result = np.dot(A, B)\n",
    "print(result)"
   ]
  },
  {
   "cell_type": "code",
   "execution_count": null,
   "id": "4b229225",
   "metadata": {},
   "outputs": [],
   "source": [
    "\n",
    "A = np.array([[1, 2,3], [7,9,6]])\n",
    "B = np.array([[4,5,6], [9,5,6]])\n",
    "result = np.cross(A, B)\n",
    "print(result)"
   ]
  },
  {
   "cell_type": "code",
   "execution_count": null,
   "id": "c54fc53c",
   "metadata": {},
   "outputs": [],
   "source": [
    "a=[1,2,3]\n",
    "b=[4,5,6]\n",
    "c=0\n",
    "for i in range(len(a)):\n",
    "    c+=(a[i]*b[i])  \n",
    "print(c)    "
   ]
  },
  {
   "cell_type": "code",
   "execution_count": 1,
   "id": "dc6b6b2f",
   "metadata": {},
   "outputs": [
    {
     "name": "stdout",
     "output_type": "stream",
     "text": [
      "transpose of a matrix is:\n",
      "[1, 4]\n",
      "[2, 5]\n",
      "[3, 6]\n"
     ]
    }
   ],
   "source": [
    "a=[[1, 2, 3],[4, 5, 6]]\n",
    "b=[]\n",
    "for i in range(len(a[0])):\n",
    "    c=[]\n",
    "    for j in range(len(a)):\n",
    "        c.append(a[j][i])\n",
    "    b.append(c)\n",
    "print(\"transpose of a matrix is:\")    \n",
    "\n",
    "for d in b:\n",
    "    print(d)\n",
    "   "
   ]
  }
 ],
 "metadata": {
  "kernelspec": {
   "display_name": "Python 3",
   "language": "python",
   "name": "python3"
  },
  "language_info": {
   "codemirror_mode": {
    "name": "ipython",
    "version": 3
   },
   "file_extension": ".py",
   "mimetype": "text/x-python",
   "name": "python",
   "nbconvert_exporter": "python",
   "pygments_lexer": "ipython3",
   "version": "3.11.9"
  }
 },
 "nbformat": 4,
 "nbformat_minor": 5
}
