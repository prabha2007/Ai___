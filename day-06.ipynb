{
 "cells": [
  {
   "cell_type": "code",
   "execution_count": null,
   "id": "3f61998c",
   "metadata": {},
   "outputs": [],
   "source": [
    "#read()\n",
    "file = open(\"demo1.txt\",\"r\")\n",
    "data = file.readline()\n",
    "data1 =file.readline()\n",
    "print(data1)"
   ]
  },
  {
   "cell_type": "code",
   "execution_count": null,
   "id": "f332d1e2",
   "metadata": {},
   "outputs": [],
   "source": [
    "#write+\n",
    "file = open(\"demo1.txt\",\"w\")\n",
    "conent  = \"ii hello iam fine \\n\"\n",
    "file.write(conent)\n",
    "print(file)\n",
    "file = open(\"demo1.txt\",\"r\")\n",
    "print(file.read())\n"
   ]
  },
  {
   "cell_type": "code",
   "execution_count": null,
   "id": "7afe3745",
   "metadata": {},
   "outputs": [],
   "source": [
    "file = open(\"demo1.txt\",\"a\")\n",
    "file.write(\"hii,hello\")\n",
    "file.write(\"{i love india\")\n",
    "file = open(\"demo1.txt\",\"r\")\n",
    "print(file.read())\n",
    "\n",
    "\n"
   ]
  },
  {
   "cell_type": "code",
   "execution_count": null,
   "id": "4b7fc45c",
   "metadata": {},
   "outputs": [],
   "source": [
    "file = open(\"demo1.txt\",\"r+\")\n",
    "conent  = file.read()\n",
    "print(conent)\n",
    "file.write(\"python is great\")\n",
    "file = open(\"demo1.txt\",\"r+\")\n",
    "conent  = file.read()\n",
    "print(conent)\n",
    "\n",
    "\n",
    "\n",
    "\n",
    "\n"
   ]
  },
  {
   "cell_type": "code",
   "execution_count": null,
   "id": "3febeccb",
   "metadata": {},
   "outputs": [],
   "source": [
    "file = open(\"demo1.txt\",\"w+\")\n",
    "file.write(\"you are very cute\")\n",
    "print(file.read())"
   ]
  },
  {
   "cell_type": "code",
   "execution_count": null,
   "id": "9b36ad66",
   "metadata": {},
   "outputs": [],
   "source": [
    "file = open(\"demo1.txt\",\"w+\")\n",
    "file.write(\"BYE BYE BYE \")\n",
    "print(file.read())"
   ]
  }
 ],
 "metadata": {
  "language_info": {
   "name": "python"
  }
 },
 "nbformat": 4,
 "nbformat_minor": 5
}
