{
 "cells": [
  {
   "cell_type": "code",
   "execution_count": null,
   "id": "408195c3",
   "metadata": {},
   "outputs": [
    {
     "name": "stdout",
     "output_type": "stream",
     "text": [
      "hi hii hi hi hi hi hii h\n",
      "the thread name is thread 1\n"
     ]
    }
   ],
   "source": [
    "    # DAY -11\n",
    "\n",
    "# thread- smallest unit of execution in an operating sytem\n",
    "# process - a program in execution\n",
    "\n",
    "#  there are two methods\n",
    "# 1.thread module// used for low-level threading\n",
    "# 2.threading module // used for high- level threading\n",
    "\n",
    "from threading import Thread\n",
    "def my_func():\n",
    "    print(f\"the thread name is thread 1\")\n",
    "def my_func1():\n",
    "    print(\"hi hii hi hi hi hi hii h\")\n",
    "\n",
    "t1=Thread(target=my_func1)\n",
    "t2=Thread(target=my_func)   #it is a syntax to create a thread\n",
    "t1.start() \n",
    "t1.join()  # it is used to wait for the thread (t1) to complete before moving to the next line of code (t2)\n",
    "t2.start()\n"
   ]
  },
  {
   "cell_type": "code",
   "execution_count": 2,
   "id": "218a1f81",
   "metadata": {},
   "outputs": [
    {
     "name": "stdout",
     "output_type": "stream",
     "text": [
      "the name is godson \n",
      "the name is vishal \n",
      "the name is raju \n",
      "the name is bhai \n"
     ]
    }
   ],
   "source": [
    "# RUN MULTIPLE THREADING PARALLELY\n",
    "\n",
    "from threading import Thread\n",
    "def func(name):\n",
    "    print(f\"the name is {name} \")\n",
    "\n",
    "t1=Thread(target=func,args=(\"godson\",)).start()\n",
    "t2=Thread(target=func,args=(\"vishal\",)).start()\n",
    "t3=Thread(target=func,args=(\"raju\",)).start()\n",
    "t4=Thread(target=func,args=(\"bhai\",)).start()\n",
    "\n",
    "# args - it for passing the arguments in threadig\n",
    "# target= - it is used for calling the function in threading "
   ]
  },
  {
   "cell_type": "code",
   "execution_count": null,
   "id": "3df6ae53",
   "metadata": {},
   "outputs": [
    {
     "name": "stdout",
     "output_type": "stream",
     "text": [
      "downloding......\n"
     ]
    },
    {
     "name": "stdout",
     "output_type": "stream",
     "text": [
      "DOne\n"
     ]
    }
   ],
   "source": [
    "# sleep concept - it wait for some time before executing the next line of code \n",
    "\n",
    "import threading, time\n",
    "def download():\n",
    "    print(\"downloding......\")\n",
    "    time.sleep(2)    # it wait for 2 sec after 2 sec the done will print\n",
    "    print(\"DOne\")\n",
    "t1=threading.Thread(target=download).start()"
   ]
  },
  {
   "cell_type": "code",
   "execution_count": 4,
   "id": "0cb23418",
   "metadata": {},
   "outputs": [
    {
     "name": "stdout",
     "output_type": "stream",
     "text": [
      "Thread name is:  Thread-10 (Show_name)\n"
     ]
    }
   ],
   "source": [
    "#  printing the thread name\n",
    "from threading import Thread\n",
    "import threading\n",
    "def Show_name():\n",
    "    print(\"Thread name is: \",threading.current_thread().name)\n",
    "t1=threading.Thread(target=Show_name).start()\n"
   ]
  },
  {
   "cell_type": "code",
   "execution_count": 5,
   "id": "eb24c982",
   "metadata": {},
   "outputs": [
    {
     "name": "stdout",
     "output_type": "stream",
     "text": [
      "['hello from Thread-1', 'hello from Thread-2', 'hello from Thread-3', 'hello from Thread-4', 'hello from Thread-5', 'hello from Thread-6', 'hello from Thread-7', 'hello from Thread-8', 'hello from Thread-9', 'hello from Thread-10', 'hello from Thread-11', 'hello from Thread-12', 'hello from Thread-13', 'hello from Thread-14', 'hello from Thread-15', 'hello from Thread-16', 'hello from Thread-17', 'hello from Thread-18', 'hello from Thread-19', 'hello from Thread-20', 'hello from Thread-21', 'hello from Thread-22', 'hello from Thread-23', 'hello from Thread-24', 'hello from Thread-25', 'hello from Thread-26', 'hello from Thread-27', 'hello from Thread-28', 'hello from Thread-29', 'hello from Thread-30', 'hello from Thread-31', 'hello from Thread-32', 'hello from Thread-33', 'hello from Thread-34', 'hello from Thread-35', 'hello from Thread-36', 'hello from Thread-37', 'hello from Thread-38', 'hello from Thread-39', 'hello from Thread-40', 'hello from Thread-41', 'hello from Thread-42', 'hello from Thread-43', 'hello from Thread-44', 'hello from Thread-45', 'hello from Thread-46', 'hello from Thread-47', 'hello from Thread-48', 'hello from Thread-49', 'hello from Thread-50', 'hello from Thread-51', 'hello from Thread-52', 'hello from Thread-53', 'hello from Thread-54', 'hello from Thread-55', 'hello from Thread-56', 'hello from Thread-57', 'hello from Thread-58', 'hello from Thread-59', 'hello from Thread-60', 'hello from Thread-61', 'hello from Thread-62', 'hello from Thread-63', 'hello from Thread-64', 'hello from Thread-65', 'hello from Thread-66', 'hello from Thread-67', 'hello from Thread-68', 'hello from Thread-69', 'hello from Thread-70', 'hello from Thread-71', 'hello from Thread-72', 'hello from Thread-73', 'hello from Thread-74', 'hello from Thread-75', 'hello from Thread-76', 'hello from Thread-77', 'hello from Thread-78', 'hello from Thread-79', 'hello from Thread-80', 'hello from Thread-81', 'hello from Thread-82', 'hello from Thread-83', 'hello from Thread-84', 'hello from Thread-85', 'hello from Thread-86', 'hello from Thread-87', 'hello from Thread-88', 'hello from Thread-89', 'hello from Thread-90', 'hello from Thread-91', 'hello from Thread-92', 'hello from Thread-93', 'hello from Thread-94', 'hello from Thread-95', 'hello from Thread-96', 'hello from Thread-97', 'hello from Thread-98', 'hello from Thread-99', 'hello from Thread-100']\n"
     ]
    }
   ],
   "source": [
    "#  i want to print 10 thread contain\n",
    "# i am coming from thread one ........... to thread 10 \n",
    "\n",
    "import threading\n",
    "messages=[]\n",
    "def hello(num):\n",
    "    messages.append(f\"hello from Thread-{num}\")\n",
    "n=100       \n",
    "threads=[]\n",
    "for i in range(1,n+1):\n",
    "    t1=threading.Thread(target=hello,args=(i,))\n",
    "    t1.start()\n",
    "    threads.append(t1)\n",
    "\n",
    "for j in threads:\n",
    "    j.join()\n",
    "print(messages)"
   ]
  },
  {
   "cell_type": "code",
   "execution_count": 6,
   "id": "b9dd8a19",
   "metadata": {},
   "outputs": [
    {
     "name": "stdout",
     "output_type": "stream",
     "text": [
      "count without lock: 5000\n"
     ]
    }
   ],
   "source": [
    "# lock method in threading\n",
    "# in lock we can performe the execution with a \n",
    "# lock - it allows only one thread at a time to execute the code and got to next it for cheking witch thread\n",
    "\n",
    "#  without lock\n",
    "\n",
    "from threading import Thread\n",
    "count=0\n",
    "def increse():\n",
    "    global count\n",
    "    for i in range(1000):\n",
    "        count+=1 \n",
    "threads=[]\n",
    "n=5\n",
    "for i in range(n):\n",
    "    t1=Thread(target=increse)\n",
    "    t1.start()\n",
    "    threads.append(t1)\n",
    "for j in threads:\n",
    "    j.join()\n",
    "print(\"count without lock:\",count)"
   ]
  },
  {
   "cell_type": "code",
   "execution_count": 7,
   "id": "d34e1473",
   "metadata": {},
   "outputs": [
    {
     "name": "stdout",
     "output_type": "stream",
     "text": [
      "count with lock: 5000\n"
     ]
    }
   ],
   "source": [
    "#  with lock\n",
    "\n",
    "\n",
    "from threading import Thread,Lock\n",
    "l1=Lock()\n",
    "count=0\n",
    "def increse():\n",
    "    global count\n",
    "    for i in range(1000):\n",
    "        with l1:\n",
    "            count+=1 \n",
    "threads=[]\n",
    "n=5\n",
    "for i in range(n):\n",
    "    t1=Thread(target=increse)\n",
    "    t1.start()\n",
    "    threads.append(t1)\n",
    "for j in threads:\n",
    "    j.join()\n",
    "print(\"count with lock:\",count)"
   ]
  }
 ],
 "metadata": {
  "kernelspec": {
   "display_name": "Python 3",
   "language": "python",
   "name": "python3"
  },
  "language_info": {
   "codemirror_mode": {
    "name": "ipython",
    "version": 3
   },
   "file_extension": ".py",
   "mimetype": "text/x-python",
   "name": "python",
   "nbconvert_exporter": "python",
   "pygments_lexer": "ipython3",
   "version": "3.12.5"
  }
 },
 "nbformat": 4,
 "nbformat_minor": 5
}
