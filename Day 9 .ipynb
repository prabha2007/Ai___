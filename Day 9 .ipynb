{
 "cells": [
  {
   "cell_type": "code",
   "execution_count": null,
   "id": "3fe7c29e",
   "metadata": {},
   "outputs": [
    {
     "data": {
      "text/plain": [
       "194"
      ]
     },
     "metadata": {},
     "output_type": "display_data"
    }
   ],
   "source": [
    "#DAY 09\n",
    "\n",
    "\n",
    "#abstracion: Its hiding the internal information but its give the neccessary output\n",
    "\n",
    "#encapsulation: wrapping/Binding all data into single unit\n",
    "\n",
    "#inheritence: It is a process of acquiring the properties and behaviours of another class\n",
    "\n"
   ]
  },
  {
   "cell_type": "code",
   "execution_count": null,
   "id": "f9a5e5a1",
   "metadata": {},
   "outputs": [
    {
     "name": "stdout",
     "output_type": "stream",
     "text": [
      "Cat Meows\n",
      "Dog barks\n",
      "Animal Make a Sound\n"
     ]
    }
   ],
   "source": [
    "# Inheritence Concept\n",
    "class animal:\n",
    "    def sound(self):\n",
    "        print(\"Animal Make a Sound\")\n",
    "\n",
    "class dog(animal):\n",
    "    def bark(self):\n",
    "        print(\"Dog barks\")\n",
    "\n",
    "class cat(dog):\n",
    "    def meow(self):\n",
    "        print(\"Cat Meows\")\n",
    "        \n",
    "cat1 = cat()\n",
    "cat1.meow()\n",
    "cat1.bark()\n",
    "cat1.sound()\n",
    "\n"
   ]
  },
  {
   "cell_type": "code",
   "execution_count": null,
   "id": "85d070d3",
   "metadata": {},
   "outputs": [
    {
     "name": "stdout",
     "output_type": "stream",
     "text": [
      "My name is Niranjan and I am a Manager with Salary 100000\n",
      "My name is Abhinand and I am a Developer with Salary 50000\n"
     ]
    }
   ],
   "source": [
    "#Employee Hierarchy - Create a parent class Employee with:\n",
    "#name\n",
    "#salary\n",
    "#Create two derived classes:\n",
    "#Manager with a method show_role() that prints \"I am a Manager\"\n",
    "#Developer with a method show_role() that prints \"I am a developer\"\n",
    "#Create objects of both classes, and show their details and roles.\n",
    "\n",
    "#Parent Class \n",
    "class employee:\n",
    "     def __init__(self,name,salary):\n",
    "        self.name = name\n",
    "        self.salary = salary\n",
    "#__init__ means initialize a value || Self is a default attribute for a function. we want to give atleast a attribute so we are using 'self' or we can use anything \n",
    "#name and salary is the variable\n",
    "#we had initialized in it \n",
    "\n",
    "#Child 1 Class || Manager is the child of employee so we want to mention that employee is the parent of manager\n",
    "class manager(employee):\n",
    "    #The common name for the code in def is Method\n",
    "    def show_role(self):\n",
    "        print(f\"My name is {self.name} and I am a Manager with Salary {self.salary}\")\n",
    "# show_role is the function not method\n",
    "\n",
    "#Child 2 Class || Developer is the child of employee so we want to mention that employee is the parent of developer\n",
    "class developer(employee):\n",
    "    def show_role(self):\n",
    "        print(f\"My name is {self.name} and I am a Developer with Salary {self.salary}\")\n",
    "\n",
    "#the 'man' is another variable to store the objects\n",
    "#niranjan and 100000 are object\n",
    "#We are calling the function and adding the value niranjan and 1000000 || In man.show_role() is the function calling \n",
    "\n",
    "man = manager(\"Niranjan\",100000)\n",
    "man.show_role()\n",
    "dev = developer(\"Abhinand\",50000)\n",
    "dev.show_role()\n"
   ]
  },
  {
   "cell_type": "code",
   "execution_count": null,
   "id": "5440f05b",
   "metadata": {},
   "outputs": [
    {
     "name": "stdout",
     "output_type": "stream",
     "text": [
      "My Name is Abhi and my roll number is 101\n",
      "My Name is Shubhasree and my roll number is 102\n"
     ]
    }
   ],
   "source": [
    "#Create a class called Student with the following attributes:\n",
    "#name\n",
    "#roll_number\n",
    "#Add a method display() to print the student details. \n",
    "#Create two student objects and call the display() method.\n",
    "\n",
    "#Class\n",
    "class student():\n",
    "    #Method\n",
    "    def __init__(self,name,roll_no):\n",
    "        self.name = name   \n",
    "        self.roll_no = roll_no\n",
    "    #Method 2\n",
    "    def display(self):\n",
    "        print(f\"My Name is {self.name} and my roll number is {self.roll_no}\")\n",
    "#O`bject\n",
    "st = student(\"Abhi\",101)\n",
    "st1 = student(\"Shubhasree\",102)\n",
    "st.display()\n",
    "st1.display()\n",
    "\n",
    "    "
   ]
  },
  {
   "cell_type": "code",
   "execution_count": null,
   "id": "8903bf6c",
   "metadata": {},
   "outputs": [
    {
     "name": "stdout",
     "output_type": "stream",
     "text": [
      "My name is razi and my age is 21\n"
     ]
    }
   ],
   "source": [
    "# Encapsulation\n",
    "\n",
    "class person():\n",
    "    def __init__ (self,name,age):\n",
    "        self.name = \"razi\"    #Publice Modifier\n",
    "        self.__age = age      #private Modifier\n",
    "    \n",
    "    def display(self):\n",
    "        print(f\"My name is {self.name} and my age is {self.__age}\")\n",
    "    \n",
    "    def setter(self,new_age):\n",
    "        if new_age > 0:\n",
    "            self.__age = new_age\n",
    "    \n",
    "    def getter(self):\n",
    "        return self.__age\n",
    "    \n",
    "p1 = person(\"Godson\",19)\n",
    "p1.getter()\n",
    "p1.setter(21)\n",
    "p1.display()"
   ]
  },
  {
   "cell_type": "code",
   "execution_count": null,
   "id": "b8dedaf7",
   "metadata": {},
   "outputs": [
    {
     "name": "stdout",
     "output_type": "stream",
     "text": [
      "Bird is flying in the sky \n",
      "Ironman Flys\n",
      "Doctor Strange Flys\n"
     ]
    }
   ],
   "source": [
    "#Polymorphism: We can perform the task in many ways\n",
    "\n",
    "class bird:\n",
    "\n",
    "    def fly(self):\n",
    "        print(\"Bird is flying in the sky \")\n",
    "\n",
    "class ironman:\n",
    "\n",
    "    def fly(self):\n",
    "        print(\"Ironman Flys\")\n",
    "\n",
    "class doctor_strange:\n",
    "\n",
    "    def fly(self):\n",
    "        print(\"Doctor Strange Flys\")\n",
    "\n",
    "b1 = [bird(),ironman(),doctor_strange()]            # There is 3 class and one function so we add the 3 class in a list \n",
    "for i in b1:\n",
    "    i.fly()"
   ]
  },
  {
   "cell_type": "code",
   "execution_count": null,
   "id": "b427a5ef",
   "metadata": {},
   "outputs": [
    {
     "name": "stdout",
     "output_type": "stream",
     "text": [
      "Wash all the fruits\n",
      "Cut the Fruits By Knife\n",
      "Blend the Fruit in Mixer\n",
      "Add 2 tspoon of Sugar\n",
      "Serve the Juice And Enjoy it\n"
     ]
    }
   ],
   "source": [
    "#Abstraction\n",
    "\n",
    "class juicemaker():\n",
    "    \n",
    "    def make_juice(self):\n",
    "        self.__wash()\n",
    "        self.__cut_the_fruit()\n",
    "        self.__blending()\n",
    "        self.__adding_sugar()\n",
    "        self.__serve()\n",
    "    \n",
    "    def __wash(self):\n",
    "        print(\"Wash all the fruits\")\n",
    "    \n",
    "    def __cut_the_fruit(self):\n",
    "        print(\"Cut the Fruits By Knife\")\n",
    "\n",
    "    def __blending(self):\n",
    "        print(\"Blend the Fruit in Mixer\")\n",
    "\n",
    "    def __adding_sugar(self):\n",
    "        print(\"Add 2 tspoon of Sugar\")\n",
    "\n",
    "    def __serve(self):\n",
    "        print(\"Serve the Juice And Enjoy it\")\n",
    "\n",
    "juice = juicemaker()\n",
    "juice.make_juice()\n"
   ]
  },
  {
   "cell_type": "code",
   "execution_count": null,
   "id": "6c259a9e",
   "metadata": {},
   "outputs": [
    {
     "name": "stdout",
     "output_type": "stream",
     "text": [
      "Target temperature set to: 27\n",
      "Cooler ON\n"
     ]
    },
    {
     "data": {
      "text/plain": [
       "27"
      ]
     },
     "metadata": {},
     "output_type": "display_data"
    }
   ],
   "source": [
    "# 1. Encapsulation — Smart Thermostat System\n",
    "# You're developing a smart thermostat. The internal temperature (__current_temp) and user settings (__target_temp) must not be modified\n",
    "# directly from outside. Only system-approved methods should allow updates, ensuring the heater or cooler responds correctly.\n",
    "# Concept: Protect internal states with private variables and expose only controlled methods like set_target_temp().\n",
    "\n",
    "class SmartThermostat:\n",
    "    def __init__ (self,current_temp,target_temp):\n",
    "        self.__current_temp = current_temp   \n",
    "        self.__target_temp = target_temp     \n",
    "\n",
    "    def setter(self, temp):\n",
    "        if temp >= 16 and temp <= 30:\n",
    "            self.__target_temp = temp\n",
    "            print(\"Target temperature set to:\", temp)\n",
    "            if self.__current_temp < self.__target_temp:\n",
    "                print(\"Heater ON\")\n",
    "            elif self.__current_temp > self.__target_temp:\n",
    "                print(\"Cooler ON\")\n",
    "            else:\n",
    "                print(\"Temperature is just right!\")\n",
    "        else:\n",
    "            print(\"Please set temperature between 16 and 30.\")\n",
    "\n",
    "    def getter(self):\n",
    "        return self.__target_temp\n",
    "\n",
    "\n",
    "thermo = SmartThermostat(29,25)\n",
    "\n",
    "thermo.setter(27)\n",
    "thermo.getter()"
   ]
  },
  {
   "cell_type": "code",
   "execution_count": null,
   "id": "b47e7b68",
   "metadata": {},
   "outputs": [
    {
     "name": "stdout",
     "output_type": "stream",
     "text": [
      "Searching for flights from Chennai to Mumbai...\n",
      "Connecting to airline servers...\n",
      "Filtering available flights...\n",
      "Available flights: Flight101, Flight202\n",
      "Booking flight: Flight101...\n",
      "Checking seat availability...\n",
      "Applying discounts...\n",
      "Confirming with airline...\n",
      "Ticket booked successfully!\n"
     ]
    }
   ],
   "source": [
    "# Abstraction — Travel Booking System\n",
    "# A travel booking site lets users search and book flights. The user sees a simple interface: \n",
    "# search_flights(source, destination) and book_ticket(). Behind the scenes, the system connects to multiple airline APIs, \n",
    "# checks seat availability, applies discounts, and more.\n",
    "# Concept: Show only necessary functions; hide the complex backend processes.\n",
    "\n",
    "class TravelBookingSystem:\n",
    "    def search_flights(self, source, destination):\n",
    "        print(f\"Searching for flights from {source} to {destination}...\")\n",
    "        self.__connect_to_airlines()\n",
    "        self.__filter_flights()\n",
    "        print(\"Available flights: Flight101, Flight202\")\n",
    "\n",
    "    def book_ticket(self, flight_number):\n",
    "        print(f\"Booking flight: {flight_number}...\")\n",
    "        self.__check_seats()\n",
    "        self.__apply_discounts()\n",
    "        self.__confirm_booking()\n",
    "        print(\"Ticket booked successfully!\")\n",
    "\n",
    "    def __connect_to_airlines(self):\n",
    "        print(\"Connecting to airline servers...\")\n",
    "\n",
    "    def __filter_flights(self):\n",
    "        print(\"Filtering available flights...\")\n",
    "\n",
    "    def __check_seats(self):\n",
    "        print(\"Checking seat availability...\")\n",
    "\n",
    "    def __apply_discounts(self):\n",
    "        print(\"Applying discounts...\")\n",
    "\n",
    "    def __confirm_booking(self):\n",
    "        print(\"Confirming with airline...\")\n",
    "\n",
    "\n",
    "user = TravelBookingSystem()\n",
    "user.search_flights(\"Chennai\", \"Mumbai\")\n",
    "user.book_ticket(\"Flight101\")\n"
   ]
  },
  {
   "cell_type": "code",
   "execution_count": null,
   "id": "9be6826f",
   "metadata": {},
   "outputs": [
    {
     "name": "stdout",
     "output_type": "stream",
     "text": [
      "My Name is Abhinand and I am Doctor and My ID is 101 and and I am in the Department Heart\n",
      "My Name is Razeen and I am Nurse and My ID is 102 and and I am in the Department Heart\n",
      "My Name is abhi and I am receptionist and My ID is 103 and and I am in the Department Heart\n"
     ]
    }
   ],
   "source": [
    "# Inheritance — Hospital Management System\n",
    "# A hospital has a base class Staff with common attributes like name, ID, and department. \n",
    "# Subclasses like Doctor, Nurse, and Receptionist inherit from it and add their own methods \n",
    "# like diagnose(), assist_surgery(), or schedule_appointments().\n",
    "# # Concept: Use inheritance to reuse and extend base functionality.\n",
    "\n",
    "class staff:\n",
    "    def __init__ (self,name,ID,department):\n",
    "        self.name = name\n",
    "        self.ID = ID\n",
    "        self.department = department\n",
    "\n",
    "class doctor(staff):\n",
    "    def diagnose(self):\n",
    "        print(f\"My Name is {self.name} and I am Doctor and My ID is {self.ID} and and I am in the Department {self.department}\")\n",
    "\n",
    "class nurse(staff):\n",
    "    def assist_surgery(self):\n",
    "        print(f\"My Name is {self.name} and I am Nurse and My ID is {self.ID} and and I am in the Department {self.department}\")\n",
    "\n",
    "class receptionist(staff):\n",
    "    def schedule_appointments(self):\n",
    "        print(f\"My Name is {self.name} and I am receptionist and My ID is {self.ID} and and I am in the Department {self.department}\")\n",
    "\n",
    "doc = doctor(\"Abhinand\", 101, \"Heart\")\n",
    "doc.diagnose()\n",
    "nur = nurse(\"Razeen\",102,\"Heart\")\n",
    "nur.assist_surgery()\n",
    "rec = receptionist(\"abhi\",103,\"Heart\")\n",
    "rec.schedule_appointments()\n"
   ]
  },
  {
   "cell_type": "code",
   "execution_count": null,
   "id": "341382dd",
   "metadata": {},
   "outputs": [
    {
     "name": "stdout",
     "output_type": "stream",
     "text": [
      "Sending Email Notification\n",
      "Sending SMS Notification\n",
      "Sending Push Notification\n"
     ]
    }
   ],
   "source": [
    "# Polymorphism — Notification System\n",
    "# You're building an app that sends notifications via Email, SMS, and Push Notifications.\n",
    "# All notification classes implement a send() method. \n",
    "# The system loops over a list of notifications and calls send() without checking their type.\n",
    "# Concept: All notification types behave differently but share the same method signature.\n",
    "\n",
    "\n",
    "\n",
    "class EmailNotification():\n",
    "    def send(self):\n",
    "        print(\"Sending Email Notification\")\n",
    "\n",
    "class SMSNotification():\n",
    "    def send(self):\n",
    "        print(\"Sending SMS Notification\")\n",
    "\n",
    "class PushNotification():\n",
    "    def send(self):\n",
    "        print(\"Sending Push Notification\")\n",
    "\n",
    "notifications = [ EmailNotification(),SMSNotification(),PushNotification()]\n",
    "\n",
    "for notification in notifications:\n",
    "    notification.send()\n"
   ]
  }
 ],
 "metadata": {
  "kernelspec": {
   "display_name": "Python 3",
   "language": "python",
   "name": "python3"
  },
  "language_info": {
   "name": "python",
   "version": "3.13.5"
  }
 },
 "nbformat": 4,
 "nbformat_minor": 5
}
