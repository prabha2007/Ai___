{
 "cells": [
  {
   "cell_type": "code",
   "execution_count": null,
   "id": "e80ee97f",
   "metadata": {},
   "outputs": [
    {
     "name": "stdout",
     "output_type": "stream",
     "text": [
      "[134, 'True']\n",
      "['True', 'False']\n",
      "['False', 'True', 4.5, 23, 134, 'richu', 'chahchu']\n"
     ]
    }
   ],
   "source": [
    "\n",
    "#DAY-03\n",
    "\n",
    "\n",
    "\n",
    "\n",
    "\n",
    "\n",
    "# LIST - collection of data types\n",
    "# it is orderd,mutable,heterogenous\n",
    "# we can use diffrent data types like intiger,boolean,float ect.......\n",
    "\n",
    "list1=[\"chahchu\",\"richu\",134,23,4.5,\"True\",\"False\"]\n",
    "\n",
    "\n",
    "#slicing\n",
    "\n",
    "#positive indexing - it start with 0\n",
    "#negative indexing - it is a reverse order and start with -1\n",
    "\n",
    "print(list1[-5:-1:3]) #(it print towards right side)\n",
    "\n",
    "#end -1 (-1-1=-2)\n",
    "print(list1[-2:])\n",
    "\n",
    "#if the step is negative (start,end+1,step)\n",
    "\n",
    "print(list1[::-1])#(it print towards left)\n",
    "\n"
   ]
  },
  {
   "cell_type": "code",
   "execution_count": null,
   "id": "889a63cf",
   "metadata": {},
   "outputs": [],
   "source": [
    "#list methods\n",
    "\n",
    "# append,copy,sort,insert,len,count,remove,extend,clear,pop,reverse,count,index\n",
    "\n",
    "# append-add the value at the end of the list\n",
    "# insert- you can add values at the specific position\n",
    "# extend- it can ensure to combine the list with another\n",
    "# pop-remove the value based on index\n",
    "# remove- you can mention the element to remove \n",
    "# copy - you can copy the list\n",
    "# reverse - it will reverse the list of elements\n",
    "# sort - it will arrange the elements by asec,desc values\n",
    "# clear-clear the data \n",
    "# count- to count the repeating data\n",
    "# index- its used for slicing"
   ]
  },
  {
   "cell_type": "code",
   "execution_count": null,
   "id": "e7c13c9a",
   "metadata": {},
   "outputs": [
    {
     "name": "stdout",
     "output_type": "stream",
     "text": [
      "['10', '20', '30', '40', '50']\n"
     ]
    }
   ],
   "source": [
    "list2=[]\n",
    "n=int(input(\"enter the limit:\"))\n",
    "for i in range(n):\n",
    "    num=input(\"enter the value:\")\n",
    "    list2.append(num)\n",
    "print(list2)\n"
   ]
  },
  {
   "cell_type": "code",
   "execution_count": null,
   "id": "f677e998",
   "metadata": {},
   "outputs": [
    {
     "name": "stdout",
     "output_type": "stream",
     "text": [
      "['chahchu', 'richu', 134, 23, 4.5, 'True', 'False', 'dingu', 'True1']\n",
      "['chahchu', 'richu', 134, 23, 4.5, 'True', 'False', 'dingu', 'True1']\n",
      "['True1', 'dingu', 'False', 'True', 4.5, 23, 134, 'richu', 'chahchu']\n",
      "[1, 2, 3, 4, 5, 6, 7]\n",
      "[]\n"
     ]
    }
   ],
   "source": [
    "list1=[\"chahchu\",\"richu\",134,23,4.5,\"True\",\"False\"]\n",
    "list2=[\"True1\",\"False1\"]\n",
    "\n",
    "\n",
    "list1.append(\"dingu\")\n",
    "list1.insert(1,\"mingu\")\n",
    "list1.extend(list2)\n",
    "list1.pop(1)\n",
    "list1.remove(\"False1\")\n",
    "print(list1)\n",
    "list3=list1.copy()\n",
    "list1.reverse()\n",
    "\n",
    "listsrt=[1,6,7,5,2,3,4]\n",
    "listsrt.sort()\n",
    "\n",
    "\n",
    "listclr=[3,4,5,6,7,84,7]\n",
    "listclr.clear()\n",
    "\n",
    "\n",
    "\n",
    "\n",
    "print(list3)\n",
    "print(list1)\n",
    "print(listsrt)\n",
    "print(listclr)\n"
   ]
  },
  {
   "cell_type": "code",
   "execution_count": null,
   "id": "0c901bc9",
   "metadata": {},
   "outputs": [
    {
     "name": "stdout",
     "output_type": "stream",
     "text": [
      "('chahchu', 'richu', 134, 23, 4.5, 23, 'True', 23, 'False')\n",
      "('richu', 134, 23, 4.5)\n",
      "count= 3\n",
      "index= 2\n"
     ]
    }
   ],
   "source": [
    "#tuple-()\n",
    "#orders and immutable\n",
    "#only two operations are applicable (count,index)\n",
    "\n",
    "\n",
    "tuple1=(\"chahchu\",\"richu\",134,23,4.5,23,\"True\",23,\"False\")\n",
    "tuple2=(\"True1\",\"False1\")\n",
    "\n",
    "print(tuple1)\n",
    "print(tuple1[1:5]) #slicing\n",
    "\n",
    "print(\"count=\", tuple1.count(23))\n",
    "\n",
    "print(\"index=\", tuple1.index(134))\n",
    "\n"
   ]
  }
 ],
 "metadata": {
  "kernelspec": {
   "display_name": "Python 3",
   "language": "python",
   "name": "python3"
  },
  "language_info": {
   "name": "python",
   "version": "3.13.5"
  }
 },
 "nbformat": 4,
 "nbformat_minor": 5
}
