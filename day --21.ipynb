{
 "cells": [
  {
   "cell_type": "code",
   "execution_count": null,
   "id": "eaa2cd98",
   "metadata": {},
   "outputs": [
    {
     "name": "stdout",
     "output_type": "stream",
     "text": [
      "9\n"
     ]
    }
   ],
   "source": [
    "#Recursion - The function call itself\n",
    "\n",
    "def add(a,b):\n",
    "    return (a+b)\n",
    "print(add(4,5))"
   ]
  },
  {
   "cell_type": "code",
   "execution_count": 5,
   "id": "f13555a7",
   "metadata": {},
   "outputs": [
    {
     "name": "stdout",
     "output_type": "stream",
     "text": [
      "Dosa ready\n",
      "Dosa ready\n",
      "Dosa ready\n",
      "Dosa ready\n",
      "Dosa ready\n",
      "Dosa ready\n",
      "Dosa ready\n",
      "Dosa ready\n",
      "Dosa ready\n",
      "onnu the irundhuchi adhuvum mudichichi\n"
     ]
    }
   ],
   "source": [
    "def dosai(dosa_maavu):\n",
    "    if dosa_maavu == 1:  #Base case =3\n",
    "        return \"onnu the irundhuchi adhuvum mudichichi\"\n",
    "    elif dosa_maavu >1:\n",
    "        print(\"Dosa ready\")\n",
    "        return dosai(dosa_maavu-1)\n",
    "p = dosai(10)\n",
    "print(p)\n"
   ]
  },
  {
   "cell_type": "code",
   "execution_count": 7,
   "id": "931163c5",
   "metadata": {},
   "outputs": [
    {
     "name": "stdout",
     "output_type": "stream",
     "text": [
      "Dosa ready\n",
      "Dosa ready\n",
      "None\n"
     ]
    }
   ],
   "source": [
    "def dosai(dosa_maavu):\n",
    "    if dosa_maavu >1:\n",
    "        print(\"Dosa ready\")\n",
    "        return dosai(dosa_maavu-1)\n",
    "p = dosai(3)\n",
    "print(p)\n"
   ]
  },
  {
   "cell_type": "code",
   "execution_count": null,
   "id": "5f4112d1",
   "metadata": {},
   "outputs": [
    {
     "name": "stdout",
     "output_type": "stream",
     "text": [
      "24\n"
     ]
    }
   ],
   "source": [
    "#Factorial \n",
    "\n",
    "\n",
    "def Fact(n):\n",
    "    # 4! = 4*3*2*1 = 24\n",
    "    if (n==1):\n",
    "        return 1\n",
    "    else:\n",
    "        return n*Fact(n-1)\n",
    "print (Fact(4))"
   ]
  },
  {
   "cell_type": "code",
   "execution_count": 11,
   "id": "b7192a41",
   "metadata": {},
   "outputs": [
    {
     "name": "stdout",
     "output_type": "stream",
     "text": [
      "24\n"
     ]
    }
   ],
   "source": [
    "def fact(n):\n",
    "    result = 1\n",
    "    for i in range(2,n+1):\n",
    "        result *= i\n",
    "    return result\n",
    "print(fact(4))\n",
    "    \n"
   ]
  },
  {
   "cell_type": "code",
   "execution_count": 13,
   "id": "6bde5cf2",
   "metadata": {},
   "outputs": [
    {
     "name": "stdout",
     "output_type": "stream",
     "text": [
      "24\n"
     ]
    }
   ],
   "source": [
    "def fact(n):\n",
    " if(n>1):\n",
    "    return n*fact(n-1)\n",
    " return n\n",
    "print(fact(4))"
   ]
  },
  {
   "cell_type": "code",
   "execution_count": null,
   "id": "539fcf81",
   "metadata": {},
   "outputs": [],
   "source": [
    "#fibonacci series\n",
    "''''\n",
    "f(0) = 0   (n-1)+(n-2)\n",
    "f(1) = 1\n",
    "f(2) = 1 + 0 = 1\n",
    "f(3) = 1 + 1 = 2\n",
    "f(4) = 1 + 2 = 3\n",
    "f(5) = 2 + 3 = 5\n",
    "f(6) = 3 + 5 = 8\n",
    "f(7) = 5 + 8 = 13\n",
    "f(8) = 8 + 13 = 21\n",
    "'''\n",
    "\n"
   ]
  },
  {
   "cell_type": "code",
   "execution_count": 16,
   "id": "0b7bb8f9",
   "metadata": {},
   "outputs": [
    {
     "name": "stdout",
     "output_type": "stream",
     "text": [
      "21\n"
     ]
    }
   ],
   "source": [
    "def fibonacci(n):\n",
    "    a = 0\n",
    "    b = 1\n",
    "    if(n==1):\n",
    "        return 0\n",
    "    elif(n==0):\n",
    "        return 0\n",
    "    for i in range(2,n+1):\n",
    "        temp = a + b\n",
    "        a = b\n",
    "        b = temp\n",
    "    return b\n",
    "print(fibonacci(8))    \n",
    "    "
   ]
  },
  {
   "cell_type": "code",
   "execution_count": null,
   "id": "3729f7b3",
   "metadata": {},
   "outputs": [
    {
     "name": "stdout",
     "output_type": "stream",
     "text": [
      "8\n"
     ]
    }
   ],
   "source": [
    "def fibonacci(n):\n",
    "    if(n==0):\n",
    "        return 0\n",
    "    elif(n==1):\n",
    "        return 1\n",
    "    return fibonacci(n-1)+fibonacci(n-2)    #f(5) + f(4)\n",
    "print(fibonacci(6))\n"
   ]
  },
  {
   "cell_type": "code",
   "execution_count": null,
   "id": "54b1bbde",
   "metadata": {},
   "outputs": [
    {
     "data": {
      "text/plain": [
       "10"
      ]
     },
     "execution_count": 18,
     "metadata": {},
     "output_type": "execute_result"
    }
   ],
   "source": [
    "#Sum of digits\n",
    "\n",
    "def sum_of_digits(n):\n",
    "    sum = 0\n",
    "    while(n>0):    #1234\n",
    "        sum +=n%10\n",
    "        n = n//10  #1234\n",
    "    return sum\n",
    "sum_of_digits(1234)\n",
    "    "
   ]
  },
  {
   "cell_type": "code",
   "execution_count": 19,
   "id": "baed55da",
   "metadata": {},
   "outputs": [
    {
     "data": {
      "text/plain": [
       "10"
      ]
     },
     "execution_count": 19,
     "metadata": {},
     "output_type": "execute_result"
    }
   ],
   "source": [
    "#Sum of digits recursion\n",
    "\n",
    "def sum_of_digits(n):\n",
    "    if(n==0):\n",
    "        return 0\n",
    "    return(n%10)+(sum_of_digits(n//10)) #s.o.d(1)\n",
    "sum_of_digits(1234)"
   ]
  },
  {
   "cell_type": "code",
   "execution_count": 22,
   "id": "37507e1a",
   "metadata": {},
   "outputs": [
    {
     "name": "stdout",
     "output_type": "stream",
     "text": [
      "3\n"
     ]
    }
   ],
   "source": [
    "#Imagine you have a stack of coins.\n",
    "#You want to count how many coins are in the stack\n",
    "#but you can remove only one at a time and remove it to a back\n",
    "#Write a recursive program\n",
    "\n",
    "def coins(list1):\n",
    "    if not list1:\n",
    "        return 0 #base case\n",
    "    return list1.pop(0) + coins(list1) #recursive case\n",
    "list1 = [1,1,0,0,1]\n",
    "print (coins(list1))"
   ]
  },
  {
   "cell_type": "code",
   "execution_count": null,
   "id": "73462df4",
   "metadata": {},
   "outputs": [],
   "source": [
    "#files = {\"folder 1\"\n",
    "'''\n",
    "               file1.txt -10\n",
    "               \"folder 2\"{\n",
    "                   file2.txt - 40\n",
    "                   file3.txt - 30 \n",
    "                }\n",
    "                \"file4.txt\" - 20\n",
    "    }\n",
    "'''"
   ]
  },
  {
   "cell_type": "code",
   "execution_count": null,
   "id": "a1b804b8",
   "metadata": {},
   "outputs": [],
   "source": [
    "def folder_name(folder):\n",
    "    total = 0\n",
    "    for key , values in folder.items():\n",
    "        if isinstance(values, dict):\n",
    "            total+=folder_name(values)\n",
    "        else:\n",
    "            total+=values\n",
    "    return total\n",
    "print(folder_name(file))"
   ]
  },
  {
   "cell_type": "code",
   "execution_count": null,
   "id": "a8240976",
   "metadata": {},
   "outputs": [],
   "source": [
    "#BACKTRACKING\n",
    "#Choice , explore , backtrack\n",
    "'''\n",
    "function backtracking(state):\n",
    "    if state is a solution:\n",
    "        return state(#base case)\n",
    "    for choice in all possible choices:\n",
    "        if choice is valid:\n",
    "            make choice\n",
    "            result = backtracking(state with choice)\n",
    "            if result is not failure:\n",
    "               return result\n",
    "            undo choice\n",
    "        return failure\n",
    "'''\n",
    "\n",
    "#Choice , explore , backtrack - Possible ways\n",
    "\n",
    "\n",
    "\n"
   ]
  },
  {
   "cell_type": "code",
   "execution_count": 11,
   "id": "b40bcb20",
   "metadata": {},
   "outputs": [
    {
     "name": "stdout",
     "output_type": "stream",
     "text": [
      "[1, 2, 3]\n",
      "[1, 3, 2]\n",
      "[2, 1, 3]\n",
      "[2, 3, 1]\n",
      "[3, 1, 2]\n",
      "[3, 2, 1]\n"
     ]
    }
   ],
   "source": [
    "#Pin number\n",
    "\n",
    "def pin_number(path,digits,used,result):\n",
    "    if(len(path)==len(digits)):\n",
    "        result.append(path.copy())\n",
    "        return path #base case\n",
    "    for i in range(len(digits)):\n",
    "        if not used[i]:\n",
    "            used[i] = True\n",
    "            path.append(digits[i])\n",
    "            pin_number(path,digits,used,result) #Backtracking step\n",
    "            path.pop()\n",
    "            used[i] = False\n",
    "result = []\n",
    "digits = [1,2,3]\n",
    "used = [False] * len(digits)\n",
    "pin_number([],digits,used,result)\n",
    "for i in result:\n",
    "    print(i)"
   ]
  }
 ],
 "metadata": {
  "kernelspec": {
   "display_name": "Python 3",
   "language": "python",
   "name": "python3"
  },
  "language_info": {
   "codemirror_mode": {
    "name": "ipython",
    "version": 3
   },
   "file_extension": ".py",
   "mimetype": "text/x-python",
   "name": "python",
   "nbconvert_exporter": "python",
   "pygments_lexer": "ipython3",
   "version": "3.13.5"
  }
 },
 "nbformat": 4,
 "nbformat_minor": 5
}
