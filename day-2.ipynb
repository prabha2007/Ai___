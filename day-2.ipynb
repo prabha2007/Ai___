{
 "cells": [
  {
   "cell_type": "code",
   "execution_count": null,
   "id": "7e832a07",
   "metadata": {},
   "outputs": [
    {
     "name": "stdout",
     "output_type": "stream",
     "text": [
      "not eligible\n"
     ]
    }
   ],
   "source": [
    "#logical operator\n",
    "Age = int(input(\"enter the Age\"))\n",
    "salary = int(input(\"enter the salary\"))\n",
    "if(Age>=21 and salary>2500):\n",
    " print(\"eligible\")\n",
    "else:\n",
    " print(\"not eligible\")"
   ]
  },
  {
   "cell_type": "code",
   "execution_count": 31,
   "id": "2756e10f",
   "metadata": {},
   "outputs": [
    {
     "name": "stdout",
     "output_type": "stream",
     "text": [
      "available\n"
     ]
    }
   ],
   "source": [
    "#membership operator\n",
    "carts = [\"mobile\",\"laptop\"]\n",
    "if\"mobile\" in carts:\n",
    "    print(\"available\")\n",
    "else:\n",
    "    print(\"not available\")"
   ]
  },
  {
   "cell_type": "code",
   "execution_count": 30,
   "id": "013ea995",
   "metadata": {},
   "outputs": [
    {
     "name": "stdout",
     "output_type": "stream",
     "text": [
      "same\n"
     ]
    }
   ],
   "source": [
    "#identity operator\n",
    "Id1 = 1234\n",
    "Id2 = 1234\n",
    "if(Id1 is not Id2):\n",
    "    print(\"same\")\n",
    "else:\n",
    "    print(\"diffrent\")\n"
   ]
  }
 ],
 "metadata": {
  "kernelspec": {
   "display_name": "base",
   "language": "python",
   "name": "python3"
  },
  "language_info": {
   "codemirror_mode": {
    "name": "ipython",
    "version": 3
   },
   "file_extension": ".py",
   "mimetype": "text/x-python",
   "name": "python",
   "nbconvert_exporter": "python",
   "pygments_lexer": "ipython3",
   "version": "3.9.12"
  }
 },
 "nbformat": 4,
 "nbformat_minor": 5
}
