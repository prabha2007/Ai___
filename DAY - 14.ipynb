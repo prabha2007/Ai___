{
 "cells": [
  {
   "cell_type": "code",
   "execution_count": 3,
   "id": "45ded697",
   "metadata": {},
   "outputs": [
    {
     "name": "stdout",
     "output_type": "stream",
     "text": [
      "['apple', 'apple', 'apple', 'orange', 'orange', 'banana']\n",
      "6\n",
      "0.5\n"
     ]
    }
   ],
   "source": [
    "#probadility\n",
    "basket = ['apple']*3 + ['orange']*2 +['banana']*1\n",
    "total_value = len(basket)\n",
    "print(basket)\n",
    "print(total_value)\n",
    "t_apple = basket.count('apple')/total_value\n",
    "print(t_apple)"
   ]
  },
  {
   "cell_type": "code",
   "execution_count": 5,
   "id": "a09866a5",
   "metadata": {},
   "outputs": [
    {
     "name": "stdout",
     "output_type": "stream",
     "text": [
      "0.75\n"
     ]
    }
   ],
   "source": [
    "output = ['hh','ht','th','tt']\n",
    "count = 0 \n",
    "for i in output:\n",
    "    if 'h' in i:\n",
    "        count+=1\n",
    "else:\n",
    "    print(count/len(output))"
   ]
  },
  {
   "cell_type": "code",
   "execution_count": null,
   "id": "529c399d",
   "metadata": {},
   "outputs": [
    {
     "name": "stdout",
     "output_type": "stream",
     "text": [
      "0.8333333333333334\n",
      "0.25\n"
     ]
    }
   ],
   "source": [
    "#conditional probability\n",
    "days = 100 \n",
    "rainy = 60 \n",
    "sunny = 40 \n",
    "um_rainy = 50 \n",
    "um_sunny = 10 \n",
    "prb_rainy = um_rainy/rainy\n",
    "prb_sunny = um_sunny/sunny\n",
    "print(prb_rainy)\n",
    "print(prb_sunny)"
   ]
  },
  {
   "cell_type": "code",
   "execution_count": 7,
   "id": "d1e901e9",
   "metadata": {},
   "outputs": [
    {
     "name": "stdout",
     "output_type": "stream",
     "text": [
      "0.75\n"
     ]
    }
   ],
   "source": [
    "#cp\n",
    "std = 100\n",
    "mon = 80\n",
    "mon_and_tue = 60 \n",
    "prb = mon_and_tue/mon\n",
    "print(prb)\n"
   ]
  },
  {
   "cell_type": "code",
   "execution_count": null,
   "id": "388fe26f",
   "metadata": {},
   "outputs": [],
   "source": [
    "#bayes theorem  -- p(a/b)=(p(b/a).p(a))/p(b)\n",
    "#step1 - frequency table,step2 - likelihood table,step3 - bayes formula "
   ]
  },
  {
   "cell_type": "code",
   "execution_count": null,
   "id": "66b7eccf",
   "metadata": {},
   "outputs": [
    {
     "name": "stdout",
     "output_type": "stream",
     "text": [
      "0.75\n"
     ]
    }
   ],
   "source": [
    "# bayes theorem :  mail = 100 , s = 40 , ns = 60\n",
    "mail = 100\n",
    "spam = 40 \n",
    "non_spam = 60\n",
    "win_given_spam = 30/40\n",
    "win_given_non_spam = 10/60\n",
    "p_win = (win_given_spam * spam) + (win_given_non_spam * non_spam)\n",
    "p_spam_given_win =(win_given_spam * spam)/p_win\n",
    "print(p_spam_given_win)"
   ]
  },
  {
   "cell_type": "code",
   "execution_count": null,
   "id": "85fb50fa",
   "metadata": {},
   "outputs": [],
   "source": []
  }
 ],
 "metadata": {
  "kernelspec": {
   "display_name": "Python 3",
   "language": "python",
   "name": "python3"
  },
  "language_info": {
   "codemirror_mode": {
    "name": "ipython",
    "version": 3
   },
   "file_extension": ".py",
   "mimetype": "text/x-python",
   "name": "python",
   "nbconvert_exporter": "python",
   "pygments_lexer": "ipython3",
   "version": "3.12.6"
  }
 },
 "nbformat": 4,
 "nbformat_minor": 5
}
