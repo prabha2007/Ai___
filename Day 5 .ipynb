{
 "cells": [
  {
   "cell_type": "code",
   "execution_count": null,
   "id": "3ed36ec0",
   "metadata": {},
   "outputs": [
    {
     "name": "stdout",
     "output_type": "stream",
     "text": [
      "{'name': 'raju', 'age': 20}\n",
      "dict_keys(['name', 'age'])\n",
      "dict_values(['raju', 20])\n",
      "{'name': 'ram', 'age': 30}\n",
      "{'a': 1, 'b': 2, 'c': 3}\n"
     ]
    }
   ],
   "source": [
    "\n",
    "# DAY - 05\n",
    "\n",
    "#DICTIONARY - ({})\n",
    "# it is a key value pairs\n",
    "\n",
    "dict1={\n",
    "    \"name\":\"raju\",\n",
    "    \"age\":20\n",
    "    }\n",
    "\n",
    "print(dict1)\n",
    "print(dict1.keys())\n",
    "print(dict1.values())\n",
    "\n",
    "\n",
    "dict_2={}#empty dictionary\n",
    "\n",
    "# DICT Keyword\n",
    "\n",
    "dict2=dict(name=\"ram\",age=30)\n",
    "print(dict2)\n",
    "\n",
    "\n",
    "dict4=dict([(\"a\",1),(\"b\",2),(\"c\",3)])\n",
    "print(dict4)  # by using list "
   ]
  },
  {
   "cell_type": "code",
   "execution_count": null,
   "id": "ca136e4e",
   "metadata": {},
   "outputs": [
    {
     "name": "stdout",
     "output_type": "stream",
     "text": [
      "kerela\n",
      "170\n",
      "raju\n"
     ]
    }
   ],
   "source": [
    "# important dictionary methods\n",
    "# get,setdefault,update,item,keys,values\n",
    "\n",
    "# 1. get method\n",
    "dict1={\"name\":\"raju\",\"age\":20,\"dept\":\"AI&ds\"}\n",
    "print(dict1.get(\"place\",\"kerela\"))\n",
    "print(dict1.get(\"height\",170)) #it is for get method to add to the dictionary\n",
    "print(dict1.get(\"name\")) # to get the variables  from the dict \n",
    "\n",
    "\n"
   ]
  },
  {
   "cell_type": "code",
   "execution_count": null,
   "id": "471fdf79",
   "metadata": {},
   "outputs": [
    {
     "name": "stdout",
     "output_type": "stream",
     "text": [
      "{'name': 'raju', 'age': 20, 'email': 'abc.shanmugha.edu.in'}\n"
     ]
    }
   ],
   "source": [
    "# set default method\n",
    "\n",
    "dict1={\"name\":\"raju\",\"age\":20}\n",
    "dict1.setdefault(\"email\",\"abc.shanmugha.edu.in\")\n",
    "print(dict1) #once you use setdefault,set the value to the dictionary\n",
    "#when you print that All items are visible"
   ]
  },
  {
   "cell_type": "code",
   "execution_count": null,
   "id": "fb80a9ff",
   "metadata": {},
   "outputs": [
    {
     "name": "stdout",
     "output_type": "stream",
     "text": [
      "{'name': 'raju', 'age': 20, 'place': 'kerala'}\n",
      "{'name': 'hemanth', 'age': 20, 'place': 'kerala'}\n"
     ]
    }
   ],
   "source": [
    "#Update method\n",
    "\n",
    "dict1={\n",
    "    \"name\":\"raju\",\n",
    "    \"age\":20\n",
    "    }\n",
    "\n",
    "dict1.update({\"place\":\"kerala\"})\n",
    "print(dict1)\n",
    "\n",
    "dict1[\"name\"]=\"hemanth\"\n",
    "print(dict1)"
   ]
  },
  {
   "cell_type": "code",
   "execution_count": null,
   "id": "dce4b4ba",
   "metadata": {},
   "outputs": [
    {
     "name": "stdout",
     "output_type": "stream",
     "text": [
      "dict_items([('name', 'raju'), ('age', 20)])\n"
     ]
    }
   ],
   "source": [
    "dict1={\n",
    "    \"name\":\"raju\",\n",
    "    \"age\":20\n",
    "    }\n",
    "\n",
    "print(dict1.items()) # it give the items\n"
   ]
  },
  {
   "cell_type": "code",
   "execution_count": null,
   "id": "9435bb53",
   "metadata": {},
   "outputs": [
    {
     "name": "stdout",
     "output_type": "stream",
     "text": [
      "{'age': 20}\n"
     ]
    },
    {
     "data": {
      "text/plain": [
       "'raju'"
      ]
     },
     "metadata": {},
     "output_type": "display_data"
    }
   ],
   "source": [
    "# delet method -del.pop (delete the mentioned variable)\n",
    "dict1={\n",
    "    \"name\":\"raju\",\n",
    "    \"age\":20\n",
    "    }\n",
    "del dict1[\"name\"]\n",
    "print(dict1)\n",
    "\n",
    "#pop\n",
    "dict1={\n",
    "    \"name\":\"raju\",\n",
    "    \"age\":20\n",
    "    }\n",
    "dict1.pop(\"height\",\"none\")\n",
    "dict1.pop(\"name\")"
   ]
  },
  {
   "cell_type": "code",
   "execution_count": null,
   "id": "55e9279b",
   "metadata": {},
   "outputs": [
    {
     "name": "stdout",
     "output_type": "stream",
     "text": [
      "{'Banana': 1, 'apple': 2, 'banana': 1, 'kiwi': 1}\n"
     ]
    }
   ],
   "source": [
    "#frequency dictionary from text\n",
    "\n",
    "text=\"Banana apple banana apple kiwi\"\n",
    "dict1={}\n",
    "for i in text.split():\n",
    "    dict1[i]=dict1.get(i,0)+1 # \"0\"for the index of dict1\n",
    "print(dict1)\n"
   ]
  },
  {
   "cell_type": "code",
   "execution_count": null,
   "id": "83e71a6e",
   "metadata": {},
   "outputs": [
    {
     "name": "stdout",
     "output_type": "stream",
     "text": [
      "{'H': 1, 'e': 1, 'l': 3, 'o': 2, 'W': 1, 'r': 1, 'd': 1}\n"
     ]
    }
   ],
   "source": [
    "#frequency dictionary from text with space in sentence\n",
    "\n",
    "text=\"Hello World\"\n",
    "dict1={}\n",
    "for i in text:\n",
    "    text.split()\n",
    "    if (i!=\" \"):\n",
    "        dict1[i]=dict1.get(i,0)+1 # \"0\"for the index of dict1\n",
    "print(dict1)\n"
   ]
  },
  {
   "cell_type": "code",
   "execution_count": null,
   "id": "f6604283",
   "metadata": {},
   "outputs": [
    {
     "name": "stdout",
     "output_type": "stream",
     "text": [
      "40\n"
     ]
    }
   ],
   "source": [
    "#nulti level nesting\n",
    "\n",
    "dict1={\n",
    "    \"class1\":{\n",
    "        \"A\":{\"name\":\"abcd\",\"age\":\"25\"},\n",
    "        \"B\":{\"name\":\"efgh\",\"age\":\"23\"}\n",
    "    },\n",
    "    \"class2\":{\n",
    "        \"C\":{\"name\":\"ijk\",\"age\":\"40\"},\n",
    "        \"D\":{\"name\":\"lmn\",\"age\":\"45\"}\n",
    "    }\n",
    "}\n",
    "print(dict1[\"class2\"][\"C\"][\"age\"])"
   ]
  },
  {
   "cell_type": "code",
   "execution_count": null,
   "id": "3ba4388d",
   "metadata": {},
   "outputs": [
    {
     "name": "stdout",
     "output_type": "stream",
     "text": [
      "unknown\n",
      "ccc\n"
     ]
    }
   ],
   "source": [
    "#safe lookup\n",
    "\n",
    "users={\n",
    "    101:\"aaa\",\n",
    "    102:\"bbb\",\n",
    "    103:\"ccc\"\n",
    "\n",
    "}\n",
    "def my_fun(users,userid):\n",
    "    return users.get(userid,\"unknown\")\n",
    "print(my_fun(users,105))\n",
    "print(my_fun(users,103))"
   ]
  }
 ],
 "metadata": {
  "kernelspec": {
   "display_name": "Python 3",
   "language": "python",
   "name": "python3"
  },
  "language_info": {
   "name": "python",
   "version": "3.13.5"
  }
 },
 "nbformat": 4,
 "nbformat_minor": 5
}
