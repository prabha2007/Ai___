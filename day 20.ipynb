{
 "cells": [
  {
   "cell_type": "code",
   "execution_count": null,
   "id": "dc7f171d",
   "metadata": {},
   "outputs": [],
   "source": [
    "#LINEAR DATA STRUCTURE #0(1)\n",
    "\n",
    "#Stack - Last in first out (LIFO)\n",
    "#Queue - First in first out (FIFO)\n",
    "\n",
    "#Stack methods\n",
    "'''\n",
    "\n",
    "1.Push - add the elements into the stack\n",
    "2.Pop - remove the elements from the  stack\n",
    "3.Peek(or)top - top of the element from the stack(last element)\n",
    "4.Isempty - checks whether the stack is empty or not\n",
    "5.Size - the size of stack\n",
    "\n",
    "'''"
   ]
  },
  {
   "cell_type": "code",
   "execution_count": null,
   "id": "eea923dc",
   "metadata": {},
   "outputs": [
    {
     "name": "stdout",
     "output_type": "stream",
     "text": [
      "[3, 6]\n"
     ]
    }
   ],
   "source": [
    "stack = []\n",
    "stack.append(3)\n",
    "stack.append(6)\n",
    "print(stack)"
   ]
  },
  {
   "cell_type": "code",
   "execution_count": 4,
   "id": "9a573fe3",
   "metadata": {},
   "outputs": [
    {
     "name": "stdout",
     "output_type": "stream",
     "text": [
      "None\n",
      "None\n",
      "None\n",
      "[3, 6, 7]\n"
     ]
    },
    {
     "data": {
      "text/plain": [
       "7"
      ]
     },
     "execution_count": 4,
     "metadata": {},
     "output_type": "execute_result"
    }
   ],
   "source": [
    "class Stack():\n",
    "    def __init__(self):\n",
    "        self.stack = []\n",
    "    def push(self, elements):\n",
    "        self.stack.append(elements)\n",
    "    def pop(self):\n",
    "        if self.is_empty():\n",
    "            print(\"The stack is empty so we cant pop\")\n",
    "        return self.stack.pop()\n",
    "    def peek(self):\n",
    "        return self.stack([-1])\n",
    "    def is_empty(self):\n",
    "        return len(self.stack)==0\n",
    "    def size(self):\n",
    "        return len(self.stack)\n",
    "    def display(self):\n",
    "        print(self.stack)\n",
    "mystack = Stack()\n",
    "print(mystack.push(3))\n",
    "print(mystack.push(6))\n",
    "print(mystack.push(7))\n",
    "mystack.display()\n",
    "mystack.pop()\n",
    "\n",
    "\n"
   ]
  },
  {
   "cell_type": "code",
   "execution_count": 29,
   "id": "9afd789a",
   "metadata": {},
   "outputs": [
    {
     "name": "stdout",
     "output_type": "stream",
     "text": [
      "False\n"
     ]
    }
   ],
   "source": [
    "# ex , {()}\n",
    "s = \"{(]}\"\n",
    "pairs = {')':'(',']':'[','}':'{'}\n",
    "#stack concept\n",
    "list = []\n",
    "for ch in s:\n",
    "    if ch in pairs.values():\n",
    "         list.append(ch)\n",
    "    elif ch in pairs:\n",
    "        if not list or list.pop()!=pairs[ch]:\n",
    "            print(\"False\")\n",
    "            break\n",
    "        print(\"true\")\n",
    "    else:\n",
    "        print(len(list)==0)"
   ]
  },
  {
   "cell_type": "code",
   "execution_count": null,
   "id": "a9fab08f",
   "metadata": {},
   "outputs": [],
   "source": [
    "class minstack():\n",
    "    def __init__(self):\n",
    "        self.stack = []\n",
    "        self.min_stack = []\n",
    "    def push(self,val):\n",
    "        self.stack.append(val)\n",
    "        if not self. min_stack or val <= self.min_stack[-1]:\n",
    "            self.min_stack.append(val)\n",
    "            print(self.min_stack)\n",
    "    def pop(self):\n",
    "        if self.stack[-1] == self.min_stack[-1]:\n",
    "            return self.min_stack.pop"
   ]
  },
  {
   "cell_type": "code",
   "execution_count": 2,
   "id": "d9a3237f",
   "metadata": {},
   "outputs": [
    {
     "name": "stdout",
     "output_type": "stream",
     "text": [
      "['1', '2', '3']\n",
      "['2', '3']\n",
      "2\n"
     ]
    }
   ],
   "source": [
    "Queue = []\n",
    "#enqueue\n",
    "Queue.append('1')\n",
    "Queue.append('2')\n",
    "Queue.append('3')\n",
    "print(Queue)\n",
    "\n",
    "#Dequeue\n",
    "e  = Queue.pop(0)\n",
    "print(Queue)\n",
    "\n",
    "#peek\n",
    "first = Queue[0]\n",
    "print(first)\n"
   ]
  },
  {
   "cell_type": "code",
   "execution_count": 4,
   "id": "13757402",
   "metadata": {},
   "outputs": [
    {
     "name": "stdout",
     "output_type": "stream",
     "text": [
      "[1]\n",
      "[1, 2]\n",
      "[1, 2, 3]\n"
     ]
    }
   ],
   "source": [
    "class queue():\n",
    "    def __init__(self):\n",
    "        self.stack1 = []\n",
    "        self.stack2 = []\n",
    "    def enqueue(self,val):\n",
    "        self.stack1.append(val)\n",
    "        print(self.stack1)\n",
    "    def dequeue(self):\n",
    "        if not self.stack2:\n",
    "            while self.stack1:\n",
    "                self.stack2.append(self.stack1.pop())\n",
    "        return self.stack2.pop()\n",
    "    def peek(self):\n",
    "        if not self.stack2:\n",
    "            while self.stack1:\n",
    "                self.stack2.append(self.stack1.pop())\n",
    "        return self.stack2[-1]\n",
    "    def is_empty(self):\n",
    "        return not self.stack1 and not self.stack2 \n",
    "A1 = queue()\n",
    "A1.enqueue(1)\n",
    "A1.enqueue(2)\n",
    "A1.enqueue(3)\n",
    "\n",
    "   \n",
    "\n"
   ]
  },
  {
   "cell_type": "code",
   "execution_count": 6,
   "id": "9402b04c",
   "metadata": {},
   "outputs": [
    {
     "name": "stdout",
     "output_type": "stream",
     "text": [
      "72\n",
      "False\n",
      "deque([56])\n"
     ]
    }
   ],
   "source": [
    "from collections import deque\n",
    "stack = deque()\n",
    "stack.append(56)\n",
    "stack.append(72)\n",
    "\n",
    "print(stack.pop())\n",
    "print(not stack)\n",
    "print(stack)"
   ]
  },
  {
   "cell_type": "code",
   "execution_count": null,
   "id": "4f4cd250",
   "metadata": {},
   "outputs": [],
   "source": []
  }
 ],
 "metadata": {
  "kernelspec": {
   "display_name": "Python 3",
   "language": "python",
   "name": "python3"
  },
  "language_info": {
   "codemirror_mode": {
    "name": "ipython",
    "version": 3
   },
   "file_extension": ".py",
   "mimetype": "text/x-python",
   "name": "python",
   "nbconvert_exporter": "python",
   "pygments_lexer": "ipython3",
   "version": "3.13.5"
  }
 },
 "nbformat": 4,
 "nbformat_minor": 5
}
